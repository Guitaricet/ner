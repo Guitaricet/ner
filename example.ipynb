{
 "cells": [
  {
   "cell_type": "code",
   "execution_count": null,
   "metadata": {},
   "outputs": [],
   "source": [
    "from ner.network import NER\n",
    "from ner.corpus import Corpus\n",
    "import json\n",
    "from ner.utils import md5_hashsum, download_untar\n",
    "from glob import glob\n",
    "\n",
    "\n",
    "# Check existance of the model by hashsum\n",
    "if md5_hashsum(sorted(glob('model/*'))) != 'fd50a27b96b24cdabdda13795a3baae7':\n",
    "    # Download and extract model\n",
    "    download_url = 'http://lnsigo.mipt.ru/export/models/ner/ner_model_total_rus.tar.gz'\n",
    "    download_path = 'model/'\n",
    "    download_untar(download_url, download_path)\n",
    "\n",
    "# Load network params\n",
    "with open('model/params.json') as f:\n",
    "    network_params = json.load(f)\n",
    "\n",
    "\n",
    "corpus = Corpus(dicts_filepath='model/dict.txt')\n",
    "\n",
    "network = NER(corpus, verbouse=False, pretrained_model_filepath='model/ner_model', **network_params)"
   ]
  },
  {
   "cell_type": "code",
   "execution_count": 2,
   "metadata": {},
   "outputs": [],
   "source": [
    "from ner.utils import tokenize, lemmatize\n",
    "\n",
    "\n",
    "def print_predict(sentence, network):\n",
    "    # Split sentence into tokens\n",
    "    tokens = tokenize(sentence)\n",
    "    \n",
    "    # Lemmatize every token\n",
    "    # Example: был -> быть, его -> он\n",
    "    tokens_lemmas = lemmatize(tokens)\n",
    "    \n",
    "    tags = network.predict_for_token_batch([tokens_lemmas])[0]\n",
    "    for token, tag in zip(tokens, tags):\n",
    "        print(token, tag)"
   ]
  },
  {
   "cell_type": "code",
   "execution_count": 3,
   "metadata": {},
   "outputs": [
    {
     "name": "stdout",
     "output_type": "stream",
     "text": [
      "Международное O\n",
      "рейтинговое O\n",
      "агентство O\n",
      "Standard B-ORG\n",
      "& I-ORG\n",
      "Poors I-ORG\n",
      "( I-ORG\n",
      "S I-ORG\n",
      "& I-ORG\n",
      "P I-ORG\n",
      ") O\n",
      "в O\n",
      "понедельник O\n",
      "вечером O\n",
      "опустило O\n",
      "до O\n",
      "дефолтного O\n",
      "уровня O\n",
      "долг O\n",
      "Венесуэлы B-LOC\n",
      "в O\n",
      "иностранной O\n",
      "валюте O\n",
      "после O\n",
      "неисполнения O\n",
      "графика O\n",
      "платежей O\n",
      "по O\n",
      "процентам O\n",
      ". O\n"
     ]
    }
   ],
   "source": [
    "s = 'Международное рейтинговое агентство Standard & Poors (S&P) ' \\\n",
    "    'в понедельник вечером опустило до дефолтного уровня долг ' \\\n",
    "    'Венесуэлы в иностранной валюте после неисполнения графика ' \\\n",
    "    'платежей по процентам.'\n",
    "\n",
    "print_predict(s, network)\n"
   ]
  },
  {
   "cell_type": "code",
   "execution_count": 4,
   "metadata": {},
   "outputs": [
    {
     "name": "stdout",
     "output_type": "stream",
     "text": [
      "Глава O\n",
      "министерства B-ORG\n",
      "обороны I-ORG\n",
      "США B-LOC\n",
      "Джеймс B-PER\n",
      "Мэттис I-PER\n",
      "назвал O\n",
      "приобретение O\n",
      "Турцией B-LOC\n",
      "российских O\n",
      "зенитно O\n",
      "- O\n",
      "ракетных O\n",
      "комплексов O\n",
      "С O\n",
      "- O\n",
      "400 O\n",
      "\" O\n",
      "Триумф O\n",
      "\" O\n",
      "суверенным O\n",
      "делом O\n",
      "властей O\n",
      "республики O\n",
      ". O\n",
      "При O\n",
      "этом O\n",
      "он O\n",
      "подчеркнул O\n",
      ", O\n",
      "что O\n",
      "такая O\n",
      "сделка O\n",
      "не O\n",
      "будет O\n",
      "подходить O\n",
      "требованиям O\n",
      "и O\n",
      "принципам O\n",
      "североатлантического O\n",
      "альянса O\n",
      ". O\n"
     ]
    }
   ],
   "source": [
    "s = 'Глава министерства обороны США Джеймс Мэттис назвал ' \\\n",
    "    'приобретение Турцией российских зенитно-ракетных комплексов' \\\n",
    "    ' С-400 \"Триумф\" суверенным делом властей республики. При этом' \\\n",
    "    ' он подчеркнул, что такая сделка не будет подходить требованиям' \\\n",
    "    ' и принципам североатлантического альянса.'\n",
    "print_predict(s, network)"
   ]
  },
  {
   "cell_type": "code",
   "execution_count": null,
   "metadata": {},
   "outputs": [],
   "source": []
  }
 ],
 "metadata": {
  "kernelspec": {
   "display_name": "Python 3",
   "language": "python",
   "name": "python3"
  },
  "language_info": {
   "codemirror_mode": {
    "name": "ipython",
    "version": 3
   },
   "file_extension": ".py",
   "mimetype": "text/x-python",
   "name": "python",
   "nbconvert_exporter": "python",
   "pygments_lexer": "ipython3",
   "version": "3.6.3"
  }
 },
 "nbformat": 4,
 "nbformat_minor": 2
}
