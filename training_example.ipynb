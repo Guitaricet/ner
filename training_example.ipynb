{
 "cells": [
  {
   "cell_type": "markdown",
   "metadata": {
    "collapsed": true
   },
   "source": [
    "### Neural Named Entity Recognition\n",
    "\n",
    "In this notebook, you will find an example of training a neural network to solve Named Entity Recognition (NER) task.\n",
    "In most of the cases, NER task can be formulated as: \n",
    "\n",
    "_Given a sequence of tokens (words, and may be punctuation symbols) provide a tag from predefined set of tags for each token in the sequence._\n",
    "\n",
    "For NER task there are some common types of entities which essentially are tags:\n",
    "- persons\n",
    "- locations\n",
    "- organizations\n",
    "- expressions of time\n",
    "- quantities\n",
    "- monetary values \n",
    "\n",
    "Furthermore, to distinguish consequent entities with the same tags BIO tagging scheme is used. \"B\" stands for beginning, \n",
    "\"I\" stands for the continuation of an entity and \"O\" means the absence of entity. Example with dropped punctuation:\n",
    "\n",
    "    Bernhard        B-PER\n",
    "    Riemann         I-PER\n",
    "    Carl            B-PER\n",
    "    Friedrich       I-PER\n",
    "    Gauss           I-PER\n",
    "    and             O\n",
    "    Leonhard        B-PER\n",
    "    Euler           I-PER\n",
    "\n",
    "In the example above PER means person tag, and \"B-\" and \"I-\" are prefixes identifying beginnings and continuations of the entities. Without such prefixes, it is impossible to separate Bernhard Riemann from Carl Friedrich Gauss."
   ]
  },
  {
   "cell_type": "markdown",
   "metadata": {},
   "source": [
    "### Training data\n",
    "To train the neural network, you need to have a dataset in the following format:\n",
    "\n",
    "    EU B-ORG\n",
    "    rejects O\n",
    "    the O\n",
    "    call O\n",
    "    of O\n",
    "    Germany B-LOC\n",
    "    to O\n",
    "    boycott O\n",
    "    lamb O\n",
    "    from O\n",
    "    Great B-LOC\n",
    "    Britain I-LOC\n",
    "    . O\n",
    "    \n",
    "    China B-LOC\n",
    "    says O\n",
    "    time O\n",
    "    right O\n",
    "    for O\n",
    "    Taiwan B-LOC\n",
    "    talks O\n",
    "    . O\n",
    "\n",
    "    ...\n",
    "\n",
    "The source text is tokenized and tagged. For each token there is a separate tag with BIO markup. Tags are separated from tokens with whitespaces. Sentences are separated with empty lines.\n",
    "\n",
    "The dataset is a text file or a set of text files.\n",
    "The dataset must be split into three partitions: train, test, and validation. The train set is used for training the network, namely adjusting the weights with gradient descent. The validation set is used for monitoring learning progress and early stopping. The test set is used for final estimation of model quality. Typical partitions of train, validation, and test are 80%, 10%, 10% respectively. "
   ]
  },
  {
   "cell_type": "markdown",
   "metadata": {},
   "source": [
    "### Download CoNLL 2003 dataset\n",
    "Now we download the CoNLL 2003 dataset from our server and assemble the dataset_dict data structure. \n",
    "dataset_dict is dictionary with fields _'train'_, _'test'_, and _'valid'_. In each field there is a list of training samples. Each sample is a pair (sentence_tokens, sentence_tags). And finally sentence_tokens is a list of tokens and sentence_tags is a list of tags."
   ]
  },
  {
   "cell_type": "code",
   "execution_count": 1,
   "metadata": {},
   "outputs": [
    {
     "name": "stdout",
     "output_type": "stream",
     "text": [
      "Downloading from http://lnsigo.mipt.ru/export/datasets/conll2003.tar.gz to conll2003/conll2003.tar.gz\n"
     ]
    },
    {
     "name": "stderr",
     "output_type": "stream",
     "text": [
      "\r  0%|          | 0.00/765k [00:00<?, ?B/s]"
     ]
    },
    {
     "name": "stderr",
     "output_type": "stream",
     "text": [
      "\r  4%|▍         | 32.8k/765k [00:00<00:02, 301kB/s]"
     ]
    },
    {
     "name": "stderr",
     "output_type": "stream",
     "text": [
      "\r  9%|▊         | 65.5k/765k [00:00<00:02, 286kB/s]"
     ]
    },
    {
     "name": "stderr",
     "output_type": "stream",
     "text": [
      "\r 13%|█▎        | 98.3k/765k [00:00<00:02, 287kB/s]"
     ]
    },
    {
     "name": "stderr",
     "output_type": "stream",
     "text": [
      "\r 21%|██▏       | 164k/765k [00:00<00:01, 309kB/s] "
     ]
    },
    {
     "name": "stderr",
     "output_type": "stream",
     "text": [
      "\r 30%|██▉       | 229k/765k [00:00<00:01, 336kB/s]"
     ]
    },
    {
     "name": "stderr",
     "output_type": "stream",
     "text": [
      "\r 39%|███▊      | 295k/765k [00:00<00:01, 361kB/s]"
     ]
    },
    {
     "name": "stderr",
     "output_type": "stream",
     "text": [
      "\r 47%|████▋     | 360k/765k [00:00<00:01, 388kB/s]"
     ]
    },
    {
     "name": "stderr",
     "output_type": "stream",
     "text": [
      "\r 60%|█████▉    | 459k/765k [00:01<00:00, 439kB/s]"
     ]
    },
    {
     "name": "stderr",
     "output_type": "stream",
     "text": [
      "\r 69%|██████▊   | 524k/765k [00:01<00:00, 485kB/s]"
     ]
    },
    {
     "name": "stderr",
     "output_type": "stream",
     "text": [
      "\r 81%|████████▏ | 623k/765k [00:01<00:00, 532kB/s]"
     ]
    },
    {
     "name": "stderr",
     "output_type": "stream",
     "text": [
      "\r 94%|█████████▍| 721k/765k [00:01<00:00, 572kB/s]"
     ]
    },
    {
     "name": "stderr",
     "output_type": "stream",
     "text": [
      "\r100%|██████████| 765k/765k [00:01<00:00, 464kB/s]"
     ]
    },
    {
     "name": "stderr",
     "output_type": "stream",
     "text": [
      "\n"
     ]
    },
    {
     "name": "stdout",
     "output_type": "stream",
     "text": [
      "Extracting conll2003/conll2003.tar.gz archive into conll2003/\n"
     ]
    },
    {
     "name": "stdout",
     "output_type": "stream",
     "text": [
      "Number of samples (sentences) in valid: 3250\nNumber of samples (sentences) in test : 3453\nNumber of samples (sentences) in train: 14041\n\nHere is a first two samples from the train part of the dataset:\nSentence 0\nTokens: ['EU', 'rejects', 'German', 'call', 'to', 'boycott', 'British', 'lamb', '.']\nTags:   ['B-ORG', 'O', 'B-MISC', 'O', 'O', 'O', 'B-MISC', 'O', 'O']\nSentence 1\nTokens: ['Peter', 'Blackburn']\nTags:   ['B-PER', 'I-PER']\n"
     ]
    }
   ],
   "source": [
    "from ner.utils import download_untar\n",
    "\n",
    "\n",
    "conll_tar_url = 'http://lnsigo.mipt.ru/export/datasets/conll2003.tar.gz'\n",
    "download_path = 'conll2003/'\n",
    "download_untar(conll_tar_url, download_path)\n",
    "\n",
    "data_types = ['train', 'test', 'valid']\n",
    "dataset_dict = dict()\n",
    "for data_type in data_types:\n",
    "\n",
    "    with open('conll2003/' + data_type + '.txt') as f:\n",
    "        xy_list = list()\n",
    "        tokens = list()\n",
    "        tags = list()\n",
    "        for line in f:\n",
    "            items = line.split()\n",
    "            if len(items) > 1 and '-DOCSTART-' not in items[0]:\n",
    "                token, tag = items\n",
    "                if token[0].isdigit():\n",
    "                    tokens.append('#')\n",
    "                else:\n",
    "                    tokens.append(token)\n",
    "                tags.append(tag)\n",
    "            elif len(tokens) > 0:\n",
    "                xy_list.append((tokens, tags,))\n",
    "                tokens = list()\n",
    "                tags = list()\n",
    "        dataset_dict[data_type] = xy_list\n",
    "\n",
    "for key in dataset_dict:\n",
    "    print('Number of samples (sentences) in {:<5}: {}'.format(key, len(dataset_dict[key])))\n",
    "\n",
    "print('\\nHere is a first two samples from the train part of the dataset:')\n",
    "first_two_train_samples = dataset_dict['train'][:2]\n",
    "for n, sample in enumerate(first_two_train_samples):\n",
    "    # sample is a tuple of sentence_tokens and sentence_tags\n",
    "    tokens, tags = sample\n",
    "    print('Sentence {}'.format(n))\n",
    "    print('Tokens: {}'.format(tokens))\n",
    "    print('Tags:   {}'.format(tags))"
   ]
  },
  {
   "cell_type": "markdown",
   "metadata": {},
   "source": [
    "### Corpus (batch generator)\n",
    "Now we have to create a Corpus instance. Corpus is a dataprovider. It creates vocabularies to map tokens to indices and generate batches. There is an optional parameter embeddings_file_path in the Corpus constructor. So you can provide the model with pre-trained embeddings. The embeddings must be either a FastText bin file or txt file with the following structure:\n",
    "\n",
    "    400000 100\n",
    "    the -0.038194 -0.24487 ...\n",
    "    of -0.1529 -0.24279 ...\n",
    "\n",
    "where the first line contains the total number of tokens and embeddings dimensionality and the rest lines contains tokens and vectors of embeddings. \n"
   ]
  },
  {
   "cell_type": "code",
   "execution_count": 3,
   "metadata": {},
   "outputs": [],
   "source": [
    "from ner.corpus import Corpus\n",
    "corp = Corpus(dataset_dict, embeddings_file_path=None)"
   ]
  },
  {
   "cell_type": "markdown",
   "metadata": {},
   "source": [
    "### Neural Network\n",
    "Now we have to create the Neural Network. To do so we use NER class from the network module. The NER constructor takes the following arguments:\n",
    "\n",
    "    token_embeddings_dim - token embeddings dimensionality (must agree with embeddings if they are provided)\n",
    "    char_embeddings_dim - character embeddings dimensionality \n",
    "    use_crf - whether to use Conditional Random Fields on the top (suggested to always use True)\n",
    "    use_capitalization - whethere to include capitalization binary features to the input of the network.\n",
    "                         If True than binary feature indicating whether the word starts with capital letter\n",
    "                         will be concatenated to the word embeddings.\n",
    "    n_filters - list of output feature dimensionality for each layer. For [100, 200] there will be two\n",
    "                layers with 100 and 200 number of units respectively.\n",
    "    embeddings_dropout - whether to use dropout on embeddings\n",
    "    \n",
    "There are special type of argument determinig what type of net to build:\n",
    "    \n",
    "    net_type - could be one of the following 'cnn', 'rnn', and 'cnn_highway'\n",
    "    \n",
    "For each net type there are a number of optional arguments. For convolutional neural networks ('cnn' and 'cnn_highway' net types) there are:\n",
    "\n",
    "    filter_width - width of the convolutional filter (number of tokens under the filter)\n",
    "    use_batch_norm - if True each layer will be provided with batch normalization\n",
    "\n",
    "For 'rnn' net there is\n",
    "    \n",
    "    cell_type - could be lstm or gru"
   ]
  },
  {
   "cell_type": "code",
   "execution_count": 4,
   "metadata": {},
   "outputs": [
    {
     "name": "stdout",
     "output_type": "stream",
     "text": [
      "WARNING:tensorflow:From /usr/local/lib/python3.5/dist-packages/tensorflow/contrib/learn/python/learn/datasets/base.py:198: retry (from tensorflow.contrib.learn.python.learn.datasets.base) is deprecated and will be removed in a future version.\nInstructions for updating:\nUse the retry module or similar alternatives.\n"
     ]
    },
    {
     "name": "stdout",
     "output_type": "stream",
     "text": [
      "WARNING:tensorflow:From /usr/local/lib/python3.5/dist-packages/tensorflow/python/util/deprecation.py:497: calling conv1d (from tensorflow.python.ops.nn_ops) with data_format=NHWC is deprecated and will be removed in a future version.\nInstructions for updating:\n`NHWC` for data_format is deprecated, use `NWC` instead\n"
     ]
    },
    {
     "name": "stdout",
     "output_type": "stream",
     "text": [
      "Number of parameters: \ntransitions:0 100\nEmbeddings 2014025\nClassifier 1290\nConvNet 228352\nTotal number of parameters equal 2243767\n"
     ]
    },
    {
     "name": "stderr",
     "output_type": "stream",
     "text": [
      "/usr/local/lib/python3.5/dist-packages/tensorflow/python/ops/gradients_impl.py:100: UserWarning: Converting sparse IndexedSlices to a dense Tensor of unknown shape. This may consume a large amount of memory.\n  \"Converting sparse IndexedSlices to a dense Tensor of unknown shape. \"\n"
     ]
    }
   ],
   "source": [
    "from ner.network import NER\n",
    "\n",
    "model_params = {\"filter_width\": 7,\n",
    "                \"embeddings_dropout\": True,\n",
    "                \"n_filters\": [\n",
    "                    128, 128,\n",
    "                ],\n",
    "                \"token_embeddings_dim\": 100,\n",
    "                \"char_embeddings_dim\": 25,\n",
    "                \"use_batch_norm\": True,\n",
    "                \"use_crf\": True,\n",
    "                \"net_type\": 'cnn',\n",
    "                \"use_capitalization\": True,\n",
    "               }\n",
    "\n",
    "net = NER(corp, **model_params)"
   ]
  },
  {
   "cell_type": "markdown",
   "metadata": {},
   "source": [
    "# Extract the staff you need"
   ]
  },
  {
   "cell_type": "code",
   "execution_count": 5,
   "metadata": {},
   "outputs": [
    {
     "data": {
      "text/plain": [
       "(array([[[0.10327557, 0.09770082, 0.09293468, 0.10224742, 0.09450196,\n          0.10691535, 0.09391015, 0.10328588, 0.09929096, 0.1059372 ],\n         [0.10175819, 0.09631893, 0.09848018, 0.09588266, 0.10529716,\n          0.10189997, 0.0995222 , 0.10106408, 0.10005935, 0.09971724],\n         [0.09802435, 0.0963295 , 0.09761483, 0.09811146, 0.10172061,\n          0.09462621, 0.10393388, 0.1014621 , 0.10951891, 0.09865808],\n         [0.10322316, 0.09446041, 0.09220552, 0.10339142, 0.10410431,\n          0.09604827, 0.09930258, 0.09927209, 0.10537099, 0.10262124]]],\n       dtype=float32),\n array([[[0.00943107, 0.06433413, 0.05098101, 0.        , 0.02140471,\n          0.        , 0.        , 0.        , 0.08124901, 0.        ,\n          0.        , 0.        , 0.06125958, 0.00115972, 0.07720622,\n          0.        , 0.        , 0.02859187, 0.        , 0.0151411 ,\n          0.        , 0.        , 0.        , 0.        , 0.        ,\n          0.048553  , 0.11139321, 0.05251513, 0.00172996, 0.        ,\n          0.        , 0.04238652, 0.05561797, 0.04774093, 0.02924997,\n          0.12720853, 0.        , 0.        , 0.00253527, 0.        ,\n          0.11408328, 0.05410277, 0.        , 0.        , 0.02304062,\n          0.04873557, 0.        , 0.03370205, 0.10632606, 0.04003385,\n          0.06199952, 0.03140475, 0.        , 0.        , 0.01873988,\n          0.11949965, 0.03177529, 0.        , 0.06782647, 0.00556175,\n          0.        , 0.        , 0.00073036, 0.02462903, 0.        ,\n          0.00148164, 0.        , 0.        , 0.        , 0.        ,\n          0.        , 0.        , 0.04903658, 0.01226058, 0.06790981,\n          0.09745177, 0.        , 0.04065689, 0.07948364, 0.        ,\n          0.        , 0.        , 0.        , 0.015908  , 0.        ,\n          0.04367255, 0.        , 0.        , 0.05962623, 0.        ,\n          0.        , 0.04198206, 0.        , 0.        , 0.01771213,\n          0.        , 0.        , 0.07841109, 0.13195048, 0.        ,\n          0.02240071, 0.04169272, 0.        , 0.        , 0.        ,\n          0.0123739 , 0.        , 0.032084  , 0.        , 0.11577384,\n          0.        , 0.        , 0.        , 0.        , 0.01876606,\n          0.05123091, 0.08352523, 0.        , 0.00046769, 0.02664452,\n          0.        , 0.        , 0.00579694, 0.        , 0.0606284 ,\n          0.        , 0.04662843, 0.        ],\n         [0.        , 0.03213425, 0.        , 0.        , 0.        ,\n          0.        , 0.        , 0.        , 0.11873246, 0.        ,\n          0.        , 0.        , 0.06252266, 0.06846806, 0.08000565,\n          0.01096816, 0.        , 0.05533635, 0.0361996 , 0.01620616,\n          0.        , 0.02079655, 0.        , 0.        , 0.00301235,\n          0.0955192 , 0.04403904, 0.00419423, 0.        , 0.        ,\n          0.        , 0.04249912, 0.05566007, 0.00948299, 0.        ,\n          0.05201479, 0.        , 0.01322273, 0.07210012, 0.        ,\n          0.04975156, 0.08086587, 0.01552093, 0.01870527, 0.0214974 ,\n          0.00517032, 0.04935766, 0.00601031, 0.03864893, 0.        ,\n          0.04202532, 0.        , 0.        , 0.        , 0.0106768 ,\n          0.00509366, 0.0723145 , 0.        , 0.05430816, 0.01152903,\n          0.00392181, 0.        , 0.        , 0.        , 0.        ,\n          0.        , 0.        , 0.02093872, 0.        , 0.00296133,\n          0.        , 0.00343819, 0.02697129, 0.05545514, 0.02837822,\n          0.06336303, 0.        , 0.01238329, 0.        , 0.        ,\n          0.00785432, 0.03340913, 0.        , 0.        , 0.        ,\n          0.11839321, 0.        , 0.        , 0.        , 0.00483594,\n          0.        , 0.0552372 , 0.        , 0.        , 0.        ,\n          0.00497552, 0.        , 0.07080374, 0.03498262, 0.        ,\n          0.1566034 , 0.09765741, 0.        , 0.        , 0.        ,\n          0.        , 0.01162131, 0.        , 0.        , 0.        ,\n          0.        , 0.        , 0.        , 0.01822323, 0.04361159,\n          0.01808987, 0.01897781, 0.        , 0.0378171 , 0.07008655,\n          0.04529278, 0.        , 0.02095838, 0.        , 0.        ,\n          0.03442502, 0.05441781, 0.        ],\n         [0.        , 0.        , 0.        , 0.        , 0.05341472,\n          0.        , 0.        , 0.        , 0.01241689, 0.        ,\n          0.01258473, 0.07737967, 0.        , 0.08841401, 0.03384325,\n          0.04010259, 0.022247  , 0.09927221, 0.01978212, 0.06107038,\n          0.        , 0.        , 0.05693646, 0.        , 0.        ,\n          0.01165308, 0.02499523, 0.        , 0.00635296, 0.        ,\n          0.        , 0.01435002, 0.07635043, 0.03821724, 0.        ,\n          0.        , 0.08489321, 0.09779917, 0.        , 0.        ,\n          0.        , 0.04395634, 0.        , 0.        , 0.        ,\n          0.        , 0.        , 0.        , 0.02777541, 0.03358094,\n          0.0637064 , 0.        , 0.        , 0.        , 0.08860821,\n          0.        , 0.0642204 , 0.        , 0.05134942, 0.        ,\n          0.        , 0.00076178, 0.        , 0.06103459, 0.0562897 ,\n          0.03572544, 0.        , 0.06884283, 0.        , 0.02505357,\n          0.        , 0.        , 0.        , 0.        , 0.04418673,\n          0.0675652 , 0.        , 0.06032698, 0.05291936, 0.        ,\n          0.10475113, 0.0509445 , 0.03896869, 0.        , 0.        ,\n          0.07529   , 0.        , 0.        , 0.00278564, 0.01725794,\n          0.        , 0.00683138, 0.        , 0.        , 0.        ,\n          0.09652713, 0.01602202, 0.00864439, 0.        , 0.00602126,\n          0.02442927, 0.07765822, 0.11519545, 0.        , 0.        ,\n          0.        , 0.        , 0.        , 0.        , 0.08387587,\n          0.        , 0.10172541, 0.03121079, 0.        , 0.1618911 ,\n          0.00693183, 0.        , 0.        , 0.        , 0.        ,\n          0.        , 0.05787912, 0.02694684, 0.05462258, 0.        ,\n          0.        , 0.01315936, 0.        ],\n         [0.        , 0.03814821, 0.00596317, 0.        , 0.        ,\n          0.        , 0.01112097, 0.04031572, 0.        , 0.        ,\n          0.02698236, 0.070507  , 0.        , 0.08739446, 0.00270581,\n          0.        , 0.07638457, 0.09235013, 0.08838937, 0.        ,\n          0.02656895, 0.0143848 , 0.03607466, 0.0588945 , 0.0209085 ,\n          0.01381717, 0.        , 0.00245943, 0.04623549, 0.02674113,\n          0.        , 0.        , 0.02838895, 0.08261112, 0.        ,\n          0.        , 0.00969717, 0.07894393, 0.00179697, 0.        ,\n          0.        , 0.04603321, 0.        , 0.06571124, 0.        ,\n          0.        , 0.        , 0.05463352, 0.        , 0.01371031,\n          0.02322973, 0.        , 0.        , 0.04773943, 0.01913454,\n          0.05049216, 0.        , 0.01178931, 0.03659798, 0.        ,\n          0.07797932, 0.        , 0.        , 0.        , 0.        ,\n          0.00318721, 0.        , 0.0979284 , 0.        , 0.        ,\n          0.        , 0.        , 0.07527269, 0.        , 0.16886537,\n          0.01359088, 0.        , 0.1417015 , 0.01872364, 0.        ,\n          0.        , 0.01432779, 0.00256283, 0.        , 0.03065417,\n          0.11840587, 0.        , 0.        , 0.        , 0.        ,\n          0.        , 0.09083048, 0.        , 0.        , 0.        ,\n          0.        , 0.        , 0.07347125, 0.        , 0.02870161,\n          0.07192178, 0.08911677, 0.03991685, 0.        , 0.        ,\n          0.        , 0.05712456, 0.01921215, 0.04700009, 0.        ,\n          0.09596787, 0.10620783, 0.        , 0.        , 0.        ,\n          0.        , 0.        , 0.        , 0.        , 0.04026506,\n          0.04571394, 0.05296971, 0.00925407, 0.00580585, 0.        ,\n          0.        , 0.09610203, 0.        ]]], dtype=float32))"
      ]
     },
     "execution_count": 5,
     "metadata": {},
     "output_type": "execute_result"
    }
   ],
   "source": [
    "net.get_hiddens_and_probs([['this', 'is', 'my', 'sample']])"
   ]
  },
  {
   "cell_type": "markdown",
   "metadata": {},
   "source": [
    "### Network training\n",
    "To train the network the following parameters must be specified:\n",
    "\n",
    "    dropout_rate - probability of dropping the hidden state a value from 0 to 1. 0.5 Works well\n",
    "                   in most of the cases\n",
    "    epochs - number of epochs (10 - 100 typical)\n",
    "    learning_rate: learning rate (0.01 - 0.0001 typical)\n",
    "    batch_size: number of samples in the batch (4 - 64 typical)\n",
    "    learning_rate_decay - multiple factor of decreasing learning rate every epoch (1 - 0.5 typical)"
   ]
  },
  {
   "cell_type": "code",
   "execution_count": 5,
   "metadata": {},
   "outputs": [
    {
     "name": "stdout",
     "output_type": "stream",
     "text": [
      "Epoch 0\n",
      "Eval on valid:\n",
      "processed 54612 tokens with 5942 phrases; found: 5811 phrases; correct: 5091.\n",
      "\n",
      "precision:  87.61%; recall:  85.68%; FB1:  86.63\n",
      "\n",
      "\n",
      "Epoch 1\n",
      "Eval on valid:\n",
      "processed 54612 tokens with 5942 phrases; found: 5858 phrases; correct: 5254.\n",
      "\n",
      "precision:  89.69%; recall:  88.42%; FB1:  89.05\n",
      "\n",
      "\n",
      "Epoch 2\n",
      "Eval on valid:\n",
      "processed 54612 tokens with 5942 phrases; found: 5853 phrases; correct: 5265.\n",
      "\n",
      "precision:  89.95%; recall:  88.61%; FB1:  89.28\n",
      "\n",
      "\n",
      "Epoch 3\n",
      "Eval on valid:\n",
      "processed 54612 tokens with 5942 phrases; found: 5929 phrases; correct: 5328.\n",
      "\n",
      "precision:  89.86%; recall:  89.67%; FB1:  89.76\n",
      "\n",
      "\n",
      "Epoch 4\n",
      "Eval on valid:\n",
      "processed 54612 tokens with 5942 phrases; found: 5857 phrases; correct: 5295.\n",
      "\n",
      "precision:  90.40%; recall:  89.11%; FB1:  89.75\n",
      "\n",
      "\n",
      "Eval on train:\n",
      "processed 217662 tokens with 23499 phrases; found: 23489 phrases; correct: 23444.\n",
      "\n",
      "precision:  99.81%; recall:  99.77%; FB1:  99.79\n",
      "\n",
      "\tLOC: precision:  99.82%; recall:  99.90%; F1:  99.86 7146\n",
      "\n",
      "\tMISC: precision:  99.53%; recall:  99.36%; F1:  99.45 3432\n",
      "\n",
      "\tORG: precision:  99.84%; recall:  99.65%; F1:  99.75 6309\n",
      "\n",
      "\tPER: precision:  99.91%; recall:  99.94%; F1:  99.92 6602\n",
      "\n",
      "\n",
      "Eval on valid:\n",
      "processed 54612 tokens with 5942 phrases; found: 5858 phrases; correct: 5296.\n",
      "\n",
      "precision:  90.41%; recall:  89.13%; FB1:  89.76\n",
      "\n",
      "\tLOC: precision:  93.87%; recall:  92.54%; F1:  93.20 1811\n",
      "\n",
      "\tMISC: precision:  90.66%; recall:  81.02%; F1:  85.57 824\n",
      "\n",
      "\tORG: precision:  86.26%; recall:  84.27%; F1:  85.25 1310\n",
      "\n",
      "\tPER: precision:  89.86%; recall:  93.32%; F1:  91.56 1913\n",
      "\n",
      "\n",
      "Eval on test:\n",
      "processed 49888 tokens with 5648 phrases; found: 5569 phrases; correct: 4708.\n",
      "\n",
      "precision:  84.54%; recall:  83.36%; FB1:  83.94\n",
      "\n",
      "\tLOC: precision:  87.07%; recall:  88.79%; F1:  87.92 1701\n",
      "\n",
      "\tMISC: precision:  78.56%; recall:  73.08%; F1:  75.72 653\n",
      "\n",
      "\tORG: precision:  81.71%; recall:  76.94%; F1:  79.26 1564\n",
      "\n",
      "\tPER: precision:  86.98%; recall:  88.81%; F1:  87.88 1651\n",
      "\n",
      "\n"
     ]
    }
   ],
   "source": [
    "learning_params = {'dropout_rate': 0.5,\n",
    "                   'epochs': 5,\n",
    "                   'learning_rate': 0.005,\n",
    "                   'batch_size': 8,\n",
    "                   'learning_rate_decay': 0.707}\n",
    "results = net.fit(**learning_params)"
   ]
  },
  {
   "cell_type": "code",
   "execution_count": null,
   "metadata": {},
   "outputs": [],
   "source": []
  }
 ],
 "metadata": {
  "kernelspec": {
   "display_name": "Python 2",
   "language": "python",
   "name": "python2"
  },
  "language_info": {
   "codemirror_mode": {
    "name": "ipython",
    "version": 3
   },
   "file_extension": ".py",
   "mimetype": "text/x-python",
   "name": "python",
   "nbconvert_exporter": "python",
   "pygments_lexer": "ipython3",
   "version": "3.6.3"
  }
 },
 "nbformat": 4,
 "nbformat_minor": 1
}
