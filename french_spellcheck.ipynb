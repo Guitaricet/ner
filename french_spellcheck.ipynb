{
 "cells": [
  {
   "cell_type": "code",
   "execution_count": 88,
   "metadata": {},
   "outputs": [],
   "source": [
    "import http.client, urllib.parse, json, string, pickle\n",
    "from time import sleep\n",
    "\n",
    "import pandas as pd\n",
    "import numpy as np\n",
    "\n",
    "from tqdm import tqdm\n",
    "\n",
    "np.random.seed(42)"
   ]
  },
  {
   "cell_type": "code",
   "execution_count": 2,
   "metadata": {},
   "outputs": [],
   "source": [
    "def read_data(datapath):\n",
    "    n_errors = 0\n",
    "    was_error = False\n",
    "\n",
    "    with open(datapath) as f:\n",
    "        xy_list = list()\n",
    "        tokens = list()\n",
    "        tags = list()\n",
    "        \n",
    "        for line in f:\n",
    "            # format error handling:\n",
    "            if was_error:\n",
    "                if line != '\\n':\n",
    "                    continue\n",
    "                else:\n",
    "                    was_error = False\n",
    "\n",
    "            items = line.strip('\\n').strip('\\t').split('\\t')\n",
    "            if len(items) == 2:\n",
    "                token, tag = items\n",
    "                if token[0].isdigit():\n",
    "                    tokens.append('#')\n",
    "                else:\n",
    "                    # is you want static noise, add it here\n",
    "                    tokens.append(token.lower())\n",
    "                tags.append(tag)\n",
    "            elif line == '\\n':\n",
    "                xy_list.append((tokens, tags,))\n",
    "                tokens = list()\n",
    "                tags = list()\n",
    "            else:\n",
    "                # format error handling\n",
    "                print(line)\n",
    "                n_errors += 1\n",
    "                was_error = True\n",
    "                continue\n",
    "    if n_errors > 0:\n",
    "        print('Reading is done with {} errors'.format(n_errors))\n",
    "    return xy_list\n"
   ]
  },
  {
   "cell_type": "code",
   "execution_count": 56,
   "metadata": {},
   "outputs": [],
   "source": [
    "def argmax_suggestion(suggestions):\n",
    "    argmax = 0\n",
    "    for i, s in enumerate(suggestions):\n",
    "#         print(s)\n",
    "        if s['score'] > suggestions[argmax]['score']:\n",
    "            argmax = i\n",
    "    return argmax\n",
    "\n",
    "def spellsafe(text, spellchecker_output):\n",
    "    assert '_type' in spellchecker_output, spellchecker_output\n",
    "    assert spellchecker_output['_type'] == 'SpellCheck', spellchecker_output\n",
    "\n",
    "    result = text\n",
    "    changes = {}\n",
    "    for token_info in spellchecker_output['flaggedTokens']:\n",
    "        \n",
    "        argmax = argmax_suggestion(token_info['suggestions'])\n",
    "        suggestion = token_info['suggestions'][argmax]['suggestion']\n",
    "        if ' ' in suggestion or ' ' in token_info['token']:\n",
    "#         if len(suggestion.split(' ')) > 1:\n",
    "            print('token: ', token_info['token'], '\\tsuggest: ', suggestion)\n",
    "            continue\n",
    "        token = token_info['token'].strip(' ').lstrip(' ')\n",
    "        changes[token] = suggestion\n",
    "    \n",
    "    for wrong, fixed in changes.items():\n",
    "        result = result.replace(wrong, fixed)\n",
    "    return result\n",
    "\n",
    "def untokenize(tokens):\n",
    "    text = ''\n",
    "    was_apostrophe = False\n",
    "    for token in tokens:\n",
    "        if token == \"'\":\n",
    "            was_apostrophe = True\n",
    "            text += token\n",
    "        elif token in string.punctuation:\n",
    "            was_apostrophe = False\n",
    "            text += token\n",
    "        elif was_apostrophe:\n",
    "            was_apostrophe = False\n",
    "            text += token\n",
    "        else:\n",
    "            was_apostrophe = False\n",
    "            text += ' ' + token\n",
    "    text = text.lstrip(' ')\n",
    "    return text"
   ]
  },
  {
   "cell_type": "code",
   "execution_count": 69,
   "metadata": {},
   "outputs": [
    {
     "name": "stdout",
     "output_type": "stream",
     "text": [
      "{'_type': 'SpellCheck', 'flaggedTokens': [{'offset': 0, 'token': 'Solut', 'type': 'UnknownToken', 'suggestions': [{'suggestion': 'salut', 'score': 1}]}], 'correctionType': 'High'}\n"
     ]
    }
   ],
   "source": [
    "text = 'Solut à tout!'\n",
    "\n",
    "data = {'text': text}\n",
    "\n",
    "# NOTE: Replace this example key with a valid subscription key.\n",
    "key = '7559af8fffdd432da93328d18b20e85a'\n",
    "\n",
    "host = 'api.cognitive.microsoft.com'\n",
    "path = '/bing/v7.0/spellcheck?'\n",
    "params = 'mkt=fr-fr&mode=spell'\n",
    "\n",
    "headers = {'Ocp-Apim-Subscription-Key': key,\n",
    "'Content-Type': 'application/x-www-form-urlencoded'}\n",
    "\n",
    "# The headers in the following example \n",
    "# are optional but should be considered as required:\n",
    "#\n",
    "# X-MSEdge-ClientIP: 999.999.999.999  \n",
    "# X-Search-Location: lat: +90.0000000000000;long: 00.0000000000000;re:100.000000000000\n",
    "# X-MSEdge-ClientID: <Client ID from Previous Response Goes Here>\n",
    "\n",
    "conn = http.client.HTTPSConnection(host)\n",
    "body = urllib.parse.urlencode(data)\n",
    "conn.request (\"POST\", path + params, body, headers)\n",
    "response = conn.getresponse()\n",
    "output = json.loads(response.read())\n",
    "print(output)"
   ]
  },
  {
   "cell_type": "code",
   "execution_count": 5,
   "metadata": {},
   "outputs": [
    {
     "name": "stdout",
     "output_type": "stream",
     "text": [
      "{\n",
      "    \"_type\": \"SpellCheck\",\n",
      "    \"flaggedTokens\": [\n",
      "        {\n",
      "            \"offset\": 3,\n",
      "            \"token\": \"sui\",\n",
      "            \"type\": \"UnknownToken\",\n",
      "            \"suggestions\": [\n",
      "                {\n",
      "                    \"suggestion\": \"suis\",\n",
      "                    \"score\": 1\n",
      "                }\n",
      "            ]\n",
      "        },\n",
      "        {\n",
      "            \"offset\": 7,\n",
      "            \"token\": \"contens\",\n",
      "            \"type\": \"UnknownToken\",\n",
      "            \"suggestions\": [\n",
      "                {\n",
      "                    \"suggestion\": \"content\",\n",
      "                    \"score\": 1\n",
      "                }\n",
      "            ]\n",
      "        }\n",
      "    ],\n",
      "    \"correctionType\": \"High\"\n",
      "}\n"
     ]
    }
   ],
   "source": [
    "data = {'text': 'Je sui contens'}\n",
    "body = urllib.parse.urlencode(data)\n",
    "conn.request (\"POST\", path + params, body, headers)\n",
    "response = conn.getresponse()\n",
    "output = json.dumps(json.loads(response.read()), indent=4)\n",
    "print(output)"
   ]
  },
  {
   "cell_type": "code",
   "execution_count": 112,
   "metadata": {},
   "outputs": [
    {
     "name": "stdout",
     "output_type": "stream",
     "text": [
      "https://t.co/xkkIWUymCOO\n",
      "\n",
      "Reading is done with 1 errors\n"
     ]
    }
   ],
   "source": [
    "all_data = read_data('data/CAp/trainingSet_3000_v3_fixed.txt')"
   ]
  },
  {
   "cell_type": "code",
   "execution_count": 113,
   "metadata": {},
   "outputs": [],
   "source": [
    "test = read_data('data/CAp/test_set_wlabels.txt')"
   ]
  },
  {
   "cell_type": "code",
   "execution_count": 22,
   "metadata": {},
   "outputs": [
    {
     "data": {
      "text/plain": [
       "(12, 12)"
      ]
     },
     "execution_count": 22,
     "metadata": {},
     "output_type": "execute_result"
    }
   ],
   "source": [
    "len(all_data[82][0]), len(all_data[82][1])"
   ]
  },
  {
   "cell_type": "code",
   "execution_count": 23,
   "metadata": {},
   "outputs": [
    {
     "data": {
      "text/plain": [
       "\"dantesque, une visite au cimetière de laeken s'impose @museerodinparis\""
      ]
     },
     "execution_count": 23,
     "metadata": {},
     "output_type": "execute_result"
    }
   ],
   "source": [
    "untokenize(all_data[82][0])"
   ]
  },
  {
   "cell_type": "code",
   "execution_count": 24,
   "metadata": {},
   "outputs": [
    {
     "data": {
      "text/plain": [
       "{'_type': 'SpellCheck',\n",
       " 'correctionType': 'High',\n",
       " 'flaggedTokens': [{'offset': 55,\n",
       "   'suggestions': [{'score': 1, 'suggestion': 'musee rodin paris'}],\n",
       "   'token': 'museerodinparis',\n",
       "   'type': 'UnknownToken'}]}"
      ]
     },
     "execution_count": 24,
     "metadata": {},
     "output_type": "execute_result"
    }
   ],
   "source": [
    "output"
   ]
  },
  {
   "cell_type": "code",
   "execution_count": 20,
   "metadata": {},
   "outputs": [
    {
     "data": {
      "text/plain": [
       "(['dantesque',\n",
       "  ',',\n",
       "  'une',\n",
       "  'visite',\n",
       "  'au',\n",
       "  'cimetière',\n",
       "  'de',\n",
       "  'laeken',\n",
       "  's',\n",
       "  \"'\",\n",
       "  'impose',\n",
       "  '@museerodinparis'],\n",
       " ['O', 'O', 'O', 'O', 'O', 'O', 'O', 'B-geoloc', 'O', 'O', 'O', 'O'])"
      ]
     },
     "execution_count": 20,
     "metadata": {},
     "output_type": "execute_result"
    }
   ],
   "source": [
    "all_data[82]"
   ]
  },
  {
   "cell_type": "code",
   "execution_count": 59,
   "metadata": {},
   "outputs": [
    {
     "data": {
      "text/plain": [
       "2624"
      ]
     },
     "execution_count": 59,
     "metadata": {},
     "output_type": "execute_result"
    }
   ],
   "source": [
    "len(fixed)"
   ]
  },
  {
   "cell_type": "code",
   "execution_count": 57,
   "metadata": {},
   "outputs": [
    {
     "name": "stdout",
     "output_type": "stream",
     "text": [
      "token:  rera \tsuggest:  rer a\n",
      "token:  qml #uxol75 \tsuggest:  qmluxol75\n"
     ]
    },
    {
     "data": {
      "text/plain": [
       "\"j' ai un #rera \\\\ o / go cergy quand il veut #qml #uxol75\""
      ]
     },
     "execution_count": 57,
     "metadata": {},
     "output_type": "execute_result"
    }
   ],
   "source": [
    "spellsafe(' '.join(tokens), output)"
   ]
  },
  {
   "cell_type": "code",
   "execution_count": null,
   "metadata": {},
   "outputs": [],
   "source": []
  },
  {
   "cell_type": "code",
   "execution_count": null,
   "metadata": {},
   "outputs": [],
   "source": [
    "fixed = []"
   ]
  },
  {
   "cell_type": "code",
   "execution_count": 63,
   "metadata": {},
   "outputs": [
    {
     "name": "stderr",
     "output_type": "stream",
     "text": [
      "  1%|          | 2/377 [00:00<00:57,  6.57it/s]"
     ]
    },
    {
     "name": "stdout",
     "output_type": "stream",
     "text": [
      "token:  rera \tsuggest:  rer a\n",
      "token:  qml #uxol75 \tsuggest:  qmluxol75\n",
      "token:  rerb \tsuggest:  rer b\n"
     ]
    },
    {
     "name": "stderr",
     "output_type": "stream",
     "text": [
      "  1%|          | 4/377 [00:00<00:55,  6.67it/s]"
     ]
    },
    {
     "name": "stdout",
     "output_type": "stream",
     "text": [
      "token:  #rer \tsuggest:  rer b\n",
      "token:   stationn \tsuggest:  stationner\n",
      "token:   cite \tsuggest:  cite u\n"
     ]
    },
    {
     "name": "stderr",
     "output_type": "stream",
     "text": [
      "  2%|▏         | 9/377 [00:01<00:53,  6.88it/s]"
     ]
    },
    {
     "name": "stdout",
     "output_type": "stream",
     "text": [
      "token:  métro4 \tsuggest:  métro 4\n",
      "token:  rera \tsuggest:  rer a\n"
     ]
    },
    {
     "name": "stderr",
     "output_type": "stream",
     "text": [
      "  4%|▎         | 14/377 [00:02<00:56,  6.48it/s]"
     ]
    },
    {
     "name": "stdout",
     "output_type": "stream",
     "text": [
      "token:  ligne1 \tsuggest:  ligne 1\n",
      "token:  rera \tsuggest:  rer a\n"
     ]
    },
    {
     "name": "stderr",
     "output_type": "stream",
     "text": [
      "  5%|▍         | 18/377 [00:02<00:54,  6.61it/s]"
     ]
    },
    {
     "name": "stdout",
     "output_type": "stream",
     "text": [
      "token:  ligne14 \tsuggest:  ligne 14\n",
      "token:  ligne13 \tsuggest:  ligne 13\n",
      "token:  grouperatp \tsuggest:  groupe ratp\n",
      "token:  ligne10 \tsuggest:  ligne 10\n",
      "token:  subwaypeople \tsuggest:  subway people\n"
     ]
    },
    {
     "name": "stderr",
     "output_type": "stream",
     "text": [
      "  7%|▋         | 27/377 [00:04<00:53,  6.50it/s]"
     ]
    },
    {
     "name": "stdout",
     "output_type": "stream",
     "text": [
      "token:  rerb \tsuggest:  rer b\n"
     ]
    },
    {
     "name": "stderr",
     "output_type": "stream",
     "text": [
      "  8%|▊         | 30/377 [00:04<00:52,  6.57it/s]"
     ]
    },
    {
     "name": "stdout",
     "output_type": "stream",
     "text": [
      "token:  weekend \tsuggest:  week end\n"
     ]
    },
    {
     "name": "stderr",
     "output_type": "stream",
     "text": [
      "  8%|▊         | 31/377 [00:04<00:52,  6.55it/s]"
     ]
    },
    {
     "name": "stdout",
     "output_type": "stream",
     "text": [
      "token:  sncfmonopole \tsuggest:  sncf monopole\n"
     ]
    },
    {
     "name": "stderr",
     "output_type": "stream",
     "text": [
      " 11%|█▏        | 43/377 [00:06<00:50,  6.56it/s]"
     ]
    },
    {
     "name": "stdout",
     "output_type": "stream",
     "text": [
      "token:  rerd \tsuggest:  rer d\n"
     ]
    },
    {
     "name": "stderr",
     "output_type": "stream",
     "text": [
      " 12%|█▏        | 45/377 [00:06<00:50,  6.58it/s]"
     ]
    },
    {
     "name": "stdout",
     "output_type": "stream",
     "text": [
      "token:  rera \tsuggest:  rer a\n",
      "token:  rera \tsuggest:  rer a\n"
     ]
    },
    {
     "name": "stderr",
     "output_type": "stream",
     "text": [
      " 13%|█▎        | 50/377 [00:07<00:49,  6.64it/s]"
     ]
    },
    {
     "name": "stdout",
     "output_type": "stream",
     "text": [
      "token:  rera \tsuggest:  rer a\n"
     ]
    },
    {
     "name": "stderr",
     "output_type": "stream",
     "text": [
      " 15%|█▍        | 56/377 [00:08<00:48,  6.67it/s]"
     ]
    },
    {
     "name": "stdout",
     "output_type": "stream",
     "text": [
      "token:   circulation \tsuggest:  circulation\n",
      "token:  #laverrier \tsuggest:  la verriere\n",
      "token:  #ladefens \tsuggest:  la défense\n"
     ]
    },
    {
     "name": "stderr",
     "output_type": "stream",
     "text": [
      " 16%|█▋        | 62/377 [00:09<00:46,  6.71it/s]"
     ]
    },
    {
     "name": "stdout",
     "output_type": "stream",
     "text": [
      "token:  rera \tsuggest:  rer a\n"
     ]
    },
    {
     "name": "stderr",
     "output_type": "stream",
     "text": [
      " 17%|█▋        | 64/377 [00:09<00:46,  6.72it/s]"
     ]
    },
    {
     "name": "stdout",
     "output_type": "stream",
     "text": [
      "token:  lignej \tsuggest:  ligne j\n"
     ]
    },
    {
     "name": "stderr",
     "output_type": "stream",
     "text": [
      " 19%|█▉        | 73/377 [00:10<00:45,  6.75it/s]"
     ]
    },
    {
     "name": "stdout",
     "output_type": "stream",
     "text": [
      "token:  rerb \tsuggest:  rer b\n"
     ]
    },
    {
     "name": "stderr",
     "output_type": "stream",
     "text": [
      " 20%|█▉        | 75/377 [00:11<00:44,  6.74it/s]"
     ]
    },
    {
     "name": "stdout",
     "output_type": "stream",
     "text": [
      "token:  rera \tsuggest:  rer a\n"
     ]
    },
    {
     "name": "stderr",
     "output_type": "stream",
     "text": [
      " 21%|██        | 79/377 [00:11<00:44,  6.77it/s]"
     ]
    },
    {
     "name": "stdout",
     "output_type": "stream",
     "text": [
      "token:  rera \tsuggest:  rer a\n"
     ]
    },
    {
     "name": "stderr",
     "output_type": "stream",
     "text": [
      " 21%|██▏       | 81/377 [00:11<00:43,  6.79it/s]"
     ]
    },
    {
     "name": "stdout",
     "output_type": "stream",
     "text": [
      "token:  rerb \tsuggest:  rer b\n"
     ]
    },
    {
     "name": "stderr",
     "output_type": "stream",
     "text": [
      " 22%|██▏       | 83/377 [00:12<00:43,  6.80it/s]"
     ]
    },
    {
     "name": "stdout",
     "output_type": "stream",
     "text": [
      "token:  #ligne \tsuggest:  ligne j\n"
     ]
    },
    {
     "name": "stderr",
     "output_type": "stream",
     "text": [
      " 24%|██▍       | 90/377 [00:13<00:42,  6.75it/s]"
     ]
    },
    {
     "name": "stdout",
     "output_type": "stream",
     "text": [
      "token:  rerb \tsuggest:  rer b\n"
     ]
    },
    {
     "name": "stderr",
     "output_type": "stream",
     "text": [
      " 25%|██▍       | 93/377 [00:13<00:41,  6.76it/s]"
     ]
    },
    {
     "name": "stdout",
     "output_type": "stream",
     "text": [
      "token:  rerb \tsuggest:  rer b\n"
     ]
    },
    {
     "name": "stderr",
     "output_type": "stream",
     "text": [
      " 26%|██▌       | 97/377 [00:14<00:41,  6.77it/s]"
     ]
    },
    {
     "name": "stdout",
     "output_type": "stream",
     "text": [
      "token:   #re \tsuggest:  rer b\n"
     ]
    },
    {
     "name": "stderr",
     "output_type": "stream",
     "text": [
      " 27%|██▋       | 102/377 [00:15<00:40,  6.78it/s]"
     ]
    },
    {
     "name": "stdout",
     "output_type": "stream",
     "text": [
      "token:  rera \tsuggest:  rer a\n"
     ]
    },
    {
     "name": "stderr",
     "output_type": "stream",
     "text": [
      " 28%|██▊       | 105/377 [00:15<00:40,  6.80it/s]"
     ]
    },
    {
     "name": "stdout",
     "output_type": "stream",
     "text": [
      "token:  rera \tsuggest:  rer a\n"
     ]
    },
    {
     "name": "stderr",
     "output_type": "stream",
     "text": [
      " 30%|██▉       | 113/377 [00:16<00:38,  6.78it/s]"
     ]
    },
    {
     "name": "stdout",
     "output_type": "stream",
     "text": [
      "token:  rerb \tsuggest:  rer b\n",
      "token:  saint-rémy \tsuggest:  saint rémy\n"
     ]
    },
    {
     "name": "stderr",
     "output_type": "stream",
     "text": [
      " 32%|███▏      | 119/377 [00:17<00:38,  6.78it/s]"
     ]
    },
    {
     "name": "stdout",
     "output_type": "stream",
     "text": [
      "token:  rerb \tsuggest:  rer b\n",
      "token:  rerb \tsuggest:  rer b\n"
     ]
    },
    {
     "name": "stderr",
     "output_type": "stream",
     "text": [
      " 32%|███▏      | 122/377 [00:17<00:37,  6.79it/s]"
     ]
    },
    {
     "name": "stdout",
     "output_type": "stream",
     "text": [
      "token:  rerb \tsuggest:  rer b\n"
     ]
    },
    {
     "name": "stderr",
     "output_type": "stream",
     "text": [
      " 33%|███▎      | 123/377 [00:18<00:37,  6.79it/s]"
     ]
    },
    {
     "name": "stdout",
     "output_type": "stream",
     "text": [
      "token:   infotrafi \tsuggest:  info trafic\n"
     ]
    },
    {
     "name": "stderr",
     "output_type": "stream",
     "text": [
      " 33%|███▎      | 125/377 [00:18<00:37,  6.75it/s]"
     ]
    },
    {
     "name": "stdout",
     "output_type": "stream",
     "text": [
      "token:  rerb \tsuggest:  rer b\n",
      "token:  pointgreve \tsuggest:  point greve\n"
     ]
    },
    {
     "name": "stderr",
     "output_type": "stream",
     "text": [
      " 35%|███▍      | 131/377 [00:19<00:36,  6.72it/s]"
     ]
    },
    {
     "name": "stdout",
     "output_type": "stream",
     "text": [
      "token:  rera \tsuggest:  rer a\n"
     ]
    },
    {
     "name": "stderr",
     "output_type": "stream",
     "text": [
      " 35%|███▌      | 133/377 [00:19<00:36,  6.72it/s]"
     ]
    },
    {
     "name": "stdout",
     "output_type": "stream",
     "text": [
      "token:   #re \tsuggest:  rer d\n"
     ]
    },
    {
     "name": "stderr",
     "output_type": "stream",
     "text": [
      " 39%|███▉      | 147/377 [00:21<00:33,  6.78it/s]"
     ]
    },
    {
     "name": "stdout",
     "output_type": "stream",
     "text": [
      "token:  rerb \tsuggest:  rer b\n"
     ]
    },
    {
     "name": "stderr",
     "output_type": "stream",
     "text": [
      " 41%|████      | 155/377 [00:22<00:32,  6.79it/s]"
     ]
    },
    {
     "name": "stdout",
     "output_type": "stream",
     "text": [
      "token:  rerc \tsuggest:  rer c\n"
     ]
    },
    {
     "name": "stderr",
     "output_type": "stream",
     "text": [
      " 46%|████▋     | 175/377 [00:26<00:30,  6.70it/s]"
     ]
    },
    {
     "name": "stdout",
     "output_type": "stream",
     "text": [
      "token:  parismontparnasse \tsuggest:  paris montparnasse\n"
     ]
    },
    {
     "name": "stderr",
     "output_type": "stream",
     "text": [
      " 47%|████▋     | 177/377 [00:26<00:29,  6.70it/s]"
     ]
    },
    {
     "name": "stdout",
     "output_type": "stream",
     "text": [
      "token:  lesgens \tsuggest:  les gens\n"
     ]
    },
    {
     "name": "stderr",
     "output_type": "stream",
     "text": [
      " 48%|████▊     | 180/377 [00:26<00:29,  6.71it/s]"
     ]
    },
    {
     "name": "stdout",
     "output_type": "stream",
     "text": [
      "token:  rerd \tsuggest:  rer d\n"
     ]
    },
    {
     "name": "stderr",
     "output_type": "stream",
     "text": [
      " 49%|████▉     | 185/377 [00:27<00:28,  6.69it/s]"
     ]
    },
    {
     "name": "stdout",
     "output_type": "stream",
     "text": [
      "token:  lignej \tsuggest:  ligne j\n"
     ]
    },
    {
     "name": "stderr",
     "output_type": "stream",
     "text": [
      " 50%|████▉     | 187/377 [00:27<00:28,  6.70it/s]"
     ]
    },
    {
     "name": "stdout",
     "output_type": "stream",
     "text": [
      "token:  rerb \tsuggest:  rer b\n"
     ]
    },
    {
     "name": "stderr",
     "output_type": "stream",
     "text": [
      " 52%|█████▏    | 195/377 [00:29<00:27,  6.69it/s]"
     ]
    },
    {
     "name": "stdout",
     "output_type": "stream",
     "text": [
      "token:  rerb \tsuggest:  rer b\n",
      "token:  rerb \tsuggest:  rer b\n"
     ]
    },
    {
     "name": "stderr",
     "output_type": "stream",
     "text": [
      " 52%|█████▏    | 197/377 [00:29<00:26,  6.69it/s]"
     ]
    },
    {
     "name": "stdout",
     "output_type": "stream",
     "text": [
      "token:  rerb \tsuggest:  rer b\n"
     ]
    },
    {
     "name": "stderr",
     "output_type": "stream",
     "text": [
      " 53%|█████▎    | 199/377 [00:29<00:26,  6.69it/s]"
     ]
    },
    {
     "name": "stdout",
     "output_type": "stream",
     "text": [
      "token:  rerb \tsuggest:  rer b\n"
     ]
    },
    {
     "name": "stderr",
     "output_type": "stream",
     "text": [
      " 54%|█████▍    | 203/377 [00:30<00:26,  6.68it/s]"
     ]
    },
    {
     "name": "stdout",
     "output_type": "stream",
     "text": [
      "token:  rerc \tsuggest:  rer c\n",
      "token:  rerb \tsuggest:  rer b\n"
     ]
    },
    {
     "name": "stderr",
     "output_type": "stream",
     "text": [
      " 54%|█████▍    | 205/377 [00:30<00:25,  6.69it/s]"
     ]
    },
    {
     "name": "stdout",
     "output_type": "stream",
     "text": [
      "token:  rerb \tsuggest:  rer b\n"
     ]
    },
    {
     "name": "stderr",
     "output_type": "stream",
     "text": [
      " 56%|█████▌    | 211/377 [00:31<00:24,  6.71it/s]"
     ]
    },
    {
     "name": "stdout",
     "output_type": "stream",
     "text": [
      "token:  rerb \tsuggest:  rer b\n",
      "token:  stlazare \tsuggest:  st lazare\n",
      "token:  lignel \tsuggest:  ligne l\n",
      "token:  lignej \tsuggest:  ligne j\n"
     ]
    },
    {
     "name": "stderr",
     "output_type": "stream",
     "text": [
      " 57%|█████▋    | 214/377 [00:31<00:24,  6.71it/s]"
     ]
    },
    {
     "name": "stdout",
     "output_type": "stream",
     "text": [
      "token:  rerb \tsuggest:  rer b\n"
     ]
    },
    {
     "name": "stderr",
     "output_type": "stream",
     "text": [
      " 62%|██████▏   | 233/377 [00:34<00:21,  6.70it/s]"
     ]
    },
    {
     "name": "stdout",
     "output_type": "stream",
     "text": [
      "token:  rerb \tsuggest:  rer b\n",
      "token:  d' après \tsuggest:  d'après\n",
      "token:  rerb \tsuggest:  rer b\n"
     ]
    },
    {
     "name": "stderr",
     "output_type": "stream",
     "text": [
      " 62%|██████▏   | 235/377 [00:35<00:21,  6.70it/s]"
     ]
    },
    {
     "name": "stdout",
     "output_type": "stream",
     "text": [
      "token:  rerc \tsuggest:  rer c\n"
     ]
    },
    {
     "name": "stderr",
     "output_type": "stream",
     "text": [
      " 64%|██████▍   | 242/377 [00:36<00:20,  6.71it/s]"
     ]
    },
    {
     "name": "stdout",
     "output_type": "stream",
     "text": [
      "token:  rera \tsuggest:  rer a\n",
      "token:  lignej \tsuggest:  ligne j\n"
     ]
    },
    {
     "name": "stderr",
     "output_type": "stream",
     "text": [
      " 65%|██████▍   | 245/377 [00:36<00:19,  6.72it/s]"
     ]
    },
    {
     "name": "stdout",
     "output_type": "stream",
     "text": [
      "token:  rera \tsuggest:  rer a\n"
     ]
    },
    {
     "name": "stderr",
     "output_type": "stream",
     "text": [
      " 66%|██████▌   | 247/377 [00:36<00:19,  6.72it/s]"
     ]
    },
    {
     "name": "stdout",
     "output_type": "stream",
     "text": [
      "token:  rerc \tsuggest:  rer c\n",
      "token:  rerb \tsuggest:  rer b\n"
     ]
    },
    {
     "name": "stderr",
     "output_type": "stream",
     "text": [
      " 67%|██████▋   | 251/377 [00:37<00:18,  6.71it/s]"
     ]
    },
    {
     "name": "stdout",
     "output_type": "stream",
     "text": [
      "token:  rerb \tsuggest:  rer b\n",
      "token:  stlazard \tsuggest:  st lazare\n"
     ]
    },
    {
     "name": "stderr",
     "output_type": "stream",
     "text": [
      " 67%|██████▋   | 253/377 [00:37<00:18,  6.71it/s]"
     ]
    },
    {
     "name": "stdout",
     "output_type": "stream",
     "text": [
      "token:  rera \tsuggest:  rer a\n"
     ]
    },
    {
     "name": "stderr",
     "output_type": "stream",
     "text": [
      " 68%|██████▊   | 255/377 [00:38<00:18,  6.69it/s]"
     ]
    },
    {
     "name": "stdout",
     "output_type": "stream",
     "text": [
      "token:  rerb \tsuggest:  rer b\n",
      "token:  valdefontenay \tsuggest:  val de fontenay\n"
     ]
    },
    {
     "name": "stderr",
     "output_type": "stream",
     "text": [
      " 68%|██████▊   | 258/377 [00:38<00:17,  6.68it/s]"
     ]
    },
    {
     "name": "stdout",
     "output_type": "stream",
     "text": [
      "token:  rerb \tsuggest:  rer b\n"
     ]
    },
    {
     "name": "stderr",
     "output_type": "stream",
     "text": [
      " 69%|██████▉   | 260/377 [00:38<00:17,  6.68it/s]"
     ]
    },
    {
     "name": "stdout",
     "output_type": "stream",
     "text": [
      "token:  rera \tsuggest:  rer a\n"
     ]
    },
    {
     "name": "stderr",
     "output_type": "stream",
     "text": [
      " 70%|███████   | 264/377 [00:39<00:16,  6.68it/s]"
     ]
    },
    {
     "name": "stdout",
     "output_type": "stream",
     "text": [
      "token:  sudrail \tsuggest:  sud rail\n",
      "token:  saintlazare \tsuggest:  saint lazare\n",
      "token:  timothelefebvre \tsuggest:  timothe lefebvre\n",
      "token:  #tableronderat \tsuggest:  table ronde ratp\n"
     ]
    },
    {
     "name": "stderr",
     "output_type": "stream",
     "text": [
      " 72%|███████▏  | 271/377 [00:40<00:15,  6.69it/s]"
     ]
    },
    {
     "name": "stdout",
     "output_type": "stream",
     "text": [
      "token:  rera \tsuggest:  rer a\n"
     ]
    },
    {
     "name": "stderr",
     "output_type": "stream",
     "text": [
      " 74%|███████▎  | 278/377 [00:41<00:14,  6.70it/s]"
     ]
    },
    {
     "name": "stdout",
     "output_type": "stream",
     "text": [
      "token:  lignel \tsuggest:  ligne l\n",
      "token:  versaillesrd \tsuggest:  versailles rd\n",
      "token:  saintlazare \tsuggest:  saint lazare\n",
      "token:   l' heur \tsuggest:  l'heure\n"
     ]
    },
    {
     "name": "stderr",
     "output_type": "stream",
     "text": [
      " 75%|███████▌  | 283/377 [00:42<00:14,  6.70it/s]"
     ]
    },
    {
     "name": "stdout",
     "output_type": "stream",
     "text": [
      "token:  rerb \tsuggest:  rer b\n"
     ]
    },
    {
     "name": "stderr",
     "output_type": "stream",
     "text": [
      " 76%|███████▌  | 285/377 [00:42<00:13,  6.71it/s]"
     ]
    },
    {
     "name": "stdout",
     "output_type": "stream",
     "text": [
      "token:  rera \tsuggest:  rer a\n"
     ]
    },
    {
     "name": "stderr",
     "output_type": "stream",
     "text": [
      " 77%|███████▋  | 289/377 [00:43<00:13,  6.71it/s]"
     ]
    },
    {
     "name": "stdout",
     "output_type": "stream",
     "text": [
      "token:  rera \tsuggest:  rer a\n"
     ]
    },
    {
     "name": "stderr",
     "output_type": "stream",
     "text": [
      " 79%|███████▊  | 296/377 [00:44<00:12,  6.71it/s]"
     ]
    },
    {
     "name": "stdout",
     "output_type": "stream",
     "text": [
      "token:  rerb \tsuggest:  rer b\n",
      "token:  rerb \tsuggest:  rer b\n"
     ]
    },
    {
     "name": "stderr",
     "output_type": "stream",
     "text": [
      " 81%|████████  | 304/377 [00:48<00:11,  6.24it/s]"
     ]
    },
    {
     "name": "stdout",
     "output_type": "stream",
     "text": [
      "token:  rera \tsuggest:  rer a\n"
     ]
    },
    {
     "name": "stderr",
     "output_type": "stream",
     "text": [
      " 81%|████████▏ | 307/377 [00:49<00:11,  6.25it/s]"
     ]
    },
    {
     "name": "stdout",
     "output_type": "stream",
     "text": [
      "token:  rerb \tsuggest:  rer b\n"
     ]
    },
    {
     "name": "stderr",
     "output_type": "stream",
     "text": [
      " 83%|████████▎ | 314/377 [00:50<00:10,  6.27it/s]"
     ]
    },
    {
     "name": "stdout",
     "output_type": "stream",
     "text": [
      "token:  rera \tsuggest:  rer a\n",
      "token:  rera \tsuggest:  rer a\n"
     ]
    },
    {
     "name": "stderr",
     "output_type": "stream",
     "text": [
      " 84%|████████▍ | 316/377 [00:50<00:09,  6.27it/s]"
     ]
    },
    {
     "name": "stdout",
     "output_type": "stream",
     "text": [
      "token:  rera \tsuggest:  rer a\n"
     ]
    },
    {
     "name": "stderr",
     "output_type": "stream",
     "text": [
      " 84%|████████▍ | 318/377 [00:50<00:09,  6.28it/s]"
     ]
    },
    {
     "name": "stdout",
     "output_type": "stream",
     "text": [
      "token:  @rer \tsuggest:  rer a\n"
     ]
    },
    {
     "name": "stderr",
     "output_type": "stream",
     "text": [
      " 89%|████████▉ | 335/377 [00:53<00:06,  6.28it/s]"
     ]
    },
    {
     "name": "stdout",
     "output_type": "stream",
     "text": [
      "token:  rerb \tsuggest:  rer b\n"
     ]
    },
    {
     "name": "stderr",
     "output_type": "stream",
     "text": [
      " 90%|████████▉ | 338/377 [00:53<00:06,  6.28it/s]"
     ]
    },
    {
     "name": "stdout",
     "output_type": "stream",
     "text": [
      "token:  rera \tsuggest:  rer a\n"
     ]
    },
    {
     "name": "stderr",
     "output_type": "stream",
     "text": [
      " 91%|█████████ | 342/377 [00:54<00:05,  6.29it/s]"
     ]
    },
    {
     "name": "stdout",
     "output_type": "stream",
     "text": [
      "token:  infotrafic \tsuggest:  info trafic\n",
      "token:  infotrafic \tsuggest:  info trafic\n"
     ]
    },
    {
     "name": "stderr",
     "output_type": "stream",
     "text": [
      " 92%|█████████▏| 346/377 [00:54<00:04,  6.30it/s]"
     ]
    },
    {
     "name": "stdout",
     "output_type": "stream",
     "text": [
      "token:  envrac \tsuggest:  en vrac\n"
     ]
    },
    {
     "name": "stderr",
     "output_type": "stream",
     "text": [
      " 93%|█████████▎| 349/377 [00:55<00:04,  6.30it/s]"
     ]
    },
    {
     "name": "stdout",
     "output_type": "stream",
     "text": [
      "token:  rerb \tsuggest:  rer b\n"
     ]
    },
    {
     "name": "stderr",
     "output_type": "stream",
     "text": [
      " 97%|█████████▋| 364/377 [00:57<00:02,  6.31it/s]"
     ]
    },
    {
     "name": "stdout",
     "output_type": "stream",
     "text": [
      "token:  rerb \tsuggest:  rer b\n",
      "token:  lignej \tsuggest:  ligne j\n"
     ]
    },
    {
     "name": "stderr",
     "output_type": "stream",
     "text": [
      " 98%|█████████▊| 371/377 [00:58<00:00,  6.32it/s]"
     ]
    },
    {
     "name": "stdout",
     "output_type": "stream",
     "text": [
      "token:  rerb \tsuggest:  rer b\n",
      "token:  rerd \tsuggest:  rer d\n"
     ]
    },
    {
     "name": "stderr",
     "output_type": "stream",
     "text": [
      "100%|█████████▉| 376/377 [00:59<00:00,  6.34it/s]"
     ]
    },
    {
     "name": "stdout",
     "output_type": "stream",
     "text": [
      "token:  cagade \tsuggest:  cage de\n",
      "token:  lignej \tsuggest:  ligne j\n"
     ]
    },
    {
     "name": "stderr",
     "output_type": "stream",
     "text": [
      "100%|██████████| 377/377 [00:59<00:00,  6.34it/s]\n"
     ]
    }
   ],
   "source": [
    "for tokens, tags in tqdm(all_data[2624:]):\n",
    "    data = {'text': untokenize(tokens)}\n",
    "    body = urllib.parse.urlencode(data)\n",
    "    conn.request (\"POST\", path + params, body, headers)\n",
    "    response = conn.getresponse()\n",
    "    output = json.loads(response.read())\n",
    "    \n",
    "    fixed_text = spellsafe(' '.join(tokens), output)\n",
    "    fixed_tokens = fixed_text.split(' ')\n",
    "    assert len(fixed_tokens) == len(tags), output\n",
    "\n",
    "    fixed.append((fixed_tokens, tags))\n",
    "    sleep(1/100.)"
   ]
  },
  {
   "cell_type": "code",
   "execution_count": 65,
   "metadata": {},
   "outputs": [],
   "source": [
    "with open('../data/CAp/fixed.pkl', 'wb') as f:\n",
    "    pickle.dump(fixed, f)"
   ]
  },
  {
   "cell_type": "code",
   "execution_count": 64,
   "metadata": {},
   "outputs": [
    {
     "data": {
      "text/plain": [
       "3001"
      ]
     },
     "execution_count": 64,
     "metadata": {},
     "output_type": "execute_result"
    }
   ],
   "source": [
    "len(fixed)"
   ]
  },
  {
   "cell_type": "code",
   "execution_count": 66,
   "metadata": {},
   "outputs": [
    {
     "data": {
      "text/plain": [
       "True"
      ]
     },
     "execution_count": 66,
     "metadata": {},
     "output_type": "execute_result"
    }
   ],
   "source": [
    "len(fixed) == len(all_data)"
   ]
  },
  {
   "cell_type": "code",
   "execution_count": 67,
   "metadata": {},
   "outputs": [],
   "source": [
    "all_data = read_data('../data/CAp/test_set_wlabels.txt')"
   ]
  },
  {
   "cell_type": "code",
   "execution_count": 70,
   "metadata": {},
   "outputs": [
    {
     "name": "stderr",
     "output_type": "stream",
     "text": [
      "  5%|▍         | 52/1066 [00:07<02:20,  7.19it/s]"
     ]
    },
    {
     "name": "stdout",
     "output_type": "stream",
     "text": [
      "token:   marvy \tsuggest:  marvin\n"
     ]
    },
    {
     "name": "stderr",
     "output_type": "stream",
     "text": [
      "  5%|▌         | 55/1066 [00:07<02:19,  7.24it/s]"
     ]
    },
    {
     "name": "stdout",
     "output_type": "stream",
     "text": [
      "token:  rt @darlingloraine: #mardiconseil #surlaroute le rouleau original #jackkerouac @folio_livres https://t.co/am4kuz0f7 \tsuggest:  rt darling lorraine mardi conseil sur la route le rouleau original jack kerouac folio livres https t am4kuz0f7q\n"
     ]
    },
    {
     "name": "stderr",
     "output_type": "stream",
     "text": [
      "  6%|▌         | 66/1066 [00:09<02:18,  7.22it/s]"
     ]
    },
    {
     "name": "stdout",
     "output_type": "stream",
     "text": [
      "token:   me \tsuggest:  les\n",
      "token:   suchi \tsuggest:  sushis\n",
      "token:  s otam \tsuggest:  amis\n"
     ]
    },
    {
     "name": "stderr",
     "output_type": "stream",
     "text": [
      "  7%|▋         | 78/1066 [00:10<02:18,  7.15it/s]"
     ]
    },
    {
     "name": "stdout",
     "output_type": "stream",
     "text": [
      "token:  adambombole \tsuggest:  adam bombole\n"
     ]
    },
    {
     "name": "stderr",
     "output_type": "stream",
     "text": [
      " 12%|█▏        | 127/1066 [00:17<02:12,  7.06it/s]"
     ]
    },
    {
     "name": "stdout",
     "output_type": "stream",
     "text": [
      "token:  en ondes: comme des enfants en cavale par alexandre poulin https://t.co/dsoq1qvprq #radioénergie #nowplaying \tsuggest:  en ondes comme des enfants en cavale par alexandre poulin https tdsoq1qvprq radio énergie now playing\n"
     ]
    },
    {
     "name": "stderr",
     "output_type": "stream",
     "text": [
      " 17%|█▋        | 178/1066 [00:25<02:05,  7.07it/s]"
     ]
    },
    {
     "name": "stdout",
     "output_type": "stream",
     "text": [
      "token:   franci \tsuggest:  france\n"
     ]
    },
    {
     "name": "stderr",
     "output_type": "stream",
     "text": [
      " 20%|██        | 215/1066 [00:30<02:00,  7.06it/s]"
     ]
    },
    {
     "name": "stdout",
     "output_type": "stream",
     "text": [
      "token:  musictwitter \tsuggest:  music twitter\n"
     ]
    },
    {
     "name": "stderr",
     "output_type": "stream",
     "text": [
      " 27%|██▋       | 285/1066 [00:40<01:51,  6.99it/s]"
     ]
    },
    {
     "name": "stdout",
     "output_type": "stream",
     "text": [
      "token:   tunnin \tsuggest:  tuning\n"
     ]
    },
    {
     "name": "stderr",
     "output_type": "stream",
     "text": [
      " 32%|███▏      | 338/1066 [00:47<01:42,  7.08it/s]"
     ]
    },
    {
     "name": "stdout",
     "output_type": "stream",
     "text": [
      "token:  rt @wassimbensliman: qui a dit que le freestyle ne pouvait pas coller avec classe? https://t.co/wbefvrw1i \tsuggest:  rt wassim ben sliman qui a dit que le freestyle ne pouvait pas coller avec classe https t wbefvrw1ij\n"
     ]
    },
    {
     "name": "stderr",
     "output_type": "stream",
     "text": [
      " 33%|███▎      | 353/1066 [00:50<01:41,  7.05it/s]"
     ]
    },
    {
     "name": "stdout",
     "output_type": "stream",
     "text": [
      "token:  jfais \tsuggest:  j fais\n"
     ]
    },
    {
     "name": "stderr",
     "output_type": "stream",
     "text": [
      " 35%|███▌      | 377/1066 [00:53<01:37,  7.05it/s]"
     ]
    },
    {
     "name": "stdout",
     "output_type": "stream",
     "text": [
      "token:  rt @cecileduflot: les joies des dm... #feminisme #encoreduboulot https://t.co/uv1wbn25w \tsuggest:  rt cecile duflot les joies des dm feminisme encoreduboulot https t uv1wbn25wr\n"
     ]
    },
    {
     "name": "stderr",
     "output_type": "stream",
     "text": [
      " 36%|███▋      | 389/1066 [00:55<01:36,  7.05it/s]"
     ]
    },
    {
     "name": "stdout",
     "output_type": "stream",
     "text": [
      "token:  rt @rihannafrance: expliquez-lui svp. https://t.co/dhmxswp7p \tsuggest:  rt rihanna france expliquer lui svp https t dmxswp7p7\n"
     ]
    },
    {
     "name": "stderr",
     "output_type": "stream",
     "text": [
      " 39%|███▊      | 413/1066 [00:58<01:32,  7.07it/s]"
     ]
    },
    {
     "name": "stdout",
     "output_type": "stream",
     "text": [
      "token:  bluzzimc \tsuggest:  buzz imc\n"
     ]
    },
    {
     "name": "stderr",
     "output_type": "stream",
     "text": [
      " 51%|█████     | 541/1066 [01:17<01:15,  6.94it/s]"
     ]
    },
    {
     "name": "stdout",
     "output_type": "stream",
     "text": [
      "token:  ce la \tsuggest:  cela\n",
      "token:  francequidort \tsuggest:  france qui dort\n"
     ]
    },
    {
     "name": "stderr",
     "output_type": "stream",
     "text": [
      " 55%|█████▌    | 590/1066 [01:25<01:08,  6.94it/s]"
     ]
    },
    {
     "name": "stdout",
     "output_type": "stream",
     "text": [
      "token:  vanack \tsuggest:  van ack\n"
     ]
    },
    {
     "name": "stderr",
     "output_type": "stream",
     "text": [
      " 59%|█████▉    | 629/1066 [01:30<01:02,  6.96it/s]"
     ]
    },
    {
     "name": "stdout",
     "output_type": "stream",
     "text": [
      "token:  rerb \tsuggest:  rer b\n",
      "token:  rerb \tsuggest:  rer b\n"
     ]
    },
    {
     "name": "stderr",
     "output_type": "stream",
     "text": [
      " 60%|██████    | 641/1066 [01:32<01:01,  6.96it/s]"
     ]
    },
    {
     "name": "stdout",
     "output_type": "stream",
     "text": [
      "token:  mi09 \tsuggest:  mi 09\n",
      "token:  #rer \tsuggest:  rer a\n",
      "token:  n éo \tsuggest:  école\n",
      "token:  rerb \tsuggest:  rer b\n"
     ]
    },
    {
     "name": "stderr",
     "output_type": "stream",
     "text": [
      " 60%|██████    | 644/1066 [01:32<01:00,  6.96it/s]"
     ]
    },
    {
     "name": "stdout",
     "output_type": "stream",
     "text": [
      "token:  lignej \tsuggest:  ligne j\n"
     ]
    },
    {
     "name": "stderr",
     "output_type": "stream",
     "text": [
      " 62%|██████▏   | 660/1066 [01:34<00:58,  6.96it/s]"
     ]
    },
    {
     "name": "stdout",
     "output_type": "stream",
     "text": [
      "token:  lignej \tsuggest:  ligne j\n"
     ]
    },
    {
     "name": "stderr",
     "output_type": "stream",
     "text": [
      " 62%|██████▏   | 662/1066 [01:35<00:58,  6.96it/s]"
     ]
    },
    {
     "name": "stdout",
     "output_type": "stream",
     "text": [
      "token:  rera \tsuggest:  rer a\n"
     ]
    },
    {
     "name": "stderr",
     "output_type": "stream",
     "text": [
      " 62%|██████▏   | 664/1066 [01:35<00:57,  6.96it/s]"
     ]
    },
    {
     "name": "stdout",
     "output_type": "stream",
     "text": [
      "token:  lignej \tsuggest:  ligne j\n",
      "token:  plaisirgrignon \tsuggest:  plaisir grignon\n"
     ]
    },
    {
     "name": "stderr",
     "output_type": "stream",
     "text": [
      " 63%|██████▎   | 667/1066 [01:35<00:57,  6.96it/s]"
     ]
    },
    {
     "name": "stdout",
     "output_type": "stream",
     "text": [
      "token:  ligne13 \tsuggest:  ligne 13\n"
     ]
    },
    {
     "name": "stderr",
     "output_type": "stream",
     "text": [
      " 63%|██████▎   | 669/1066 [01:36<00:57,  6.96it/s]"
     ]
    },
    {
     "name": "stdout",
     "output_type": "stream",
     "text": [
      "token:  lignehaine \tsuggest:  ligne haine\n"
     ]
    },
    {
     "name": "stderr",
     "output_type": "stream",
     "text": [
      " 63%|██████▎   | 672/1066 [01:36<00:56,  6.96it/s]"
     ]
    },
    {
     "name": "stdout",
     "output_type": "stream",
     "text": [
      "token:  boiscolombes \tsuggest:  bois colombes\n"
     ]
    },
    {
     "name": "stderr",
     "output_type": "stream",
     "text": [
      " 63%|██████▎   | 675/1066 [01:36<00:56,  6.96it/s]"
     ]
    },
    {
     "name": "stdout",
     "output_type": "stream",
     "text": [
      "token:  stlazare \tsuggest:  st lazare\n",
      "token:  lignej \tsuggest:  ligne j\n"
     ]
    },
    {
     "name": "stderr",
     "output_type": "stream",
     "text": [
      " 64%|██████▎   | 678/1066 [01:37<00:55,  6.96it/s]"
     ]
    },
    {
     "name": "stdout",
     "output_type": "stream",
     "text": [
      "token:  lignej \tsuggest:  ligne j\n"
     ]
    },
    {
     "name": "stderr",
     "output_type": "stream",
     "text": [
      " 64%|██████▍   | 680/1066 [01:37<00:55,  6.96it/s]"
     ]
    },
    {
     "name": "stdout",
     "output_type": "stream",
     "text": [
      "token:  rerd \tsuggest:  rer d\n"
     ]
    },
    {
     "name": "stderr",
     "output_type": "stream",
     "text": [
      " 64%|██████▍   | 686/1066 [01:38<00:54,  6.96it/s]"
     ]
    },
    {
     "name": "stdout",
     "output_type": "stream",
     "text": [
      "token:  rerb \tsuggest:  rer b\n"
     ]
    },
    {
     "name": "stderr",
     "output_type": "stream",
     "text": [
      " 65%|██████▌   | 693/1066 [01:39<00:53,  6.95it/s]"
     ]
    },
    {
     "name": "stdout",
     "output_type": "stream",
     "text": [
      "token:  j' aime \tsuggest:  j'aime\n"
     ]
    },
    {
     "name": "stderr",
     "output_type": "stream",
     "text": [
      " 65%|██████▌   | 696/1066 [01:40<00:53,  6.95it/s]"
     ]
    },
    {
     "name": "stdout",
     "output_type": "stream",
     "text": [
      "token:  rerb \tsuggest:  rer b\n"
     ]
    },
    {
     "name": "stderr",
     "output_type": "stream",
     "text": [
      " 66%|██████▌   | 700/1066 [01:40<00:52,  6.94it/s]"
     ]
    },
    {
     "name": "stdout",
     "output_type": "stream",
     "text": [
      "token:  rerd \tsuggest:  rer d\n"
     ]
    },
    {
     "name": "stderr",
     "output_type": "stream",
     "text": [
      " 66%|██████▋   | 707/1066 [01:41<00:51,  6.94it/s]"
     ]
    },
    {
     "name": "stdout",
     "output_type": "stream",
     "text": [
      "token:  sest \tsuggest:  s est\n",
      "token:  rera \tsuggest:  rer a\n"
     ]
    },
    {
     "name": "stderr",
     "output_type": "stream",
     "text": [
      " 67%|██████▋   | 713/1066 [01:42<00:50,  6.95it/s]"
     ]
    },
    {
     "name": "stdout",
     "output_type": "stream",
     "text": [
      "token:   infotrafi \tsuggest:  info trafic\n",
      "token:   #lign \tsuggest:  ligne\n"
     ]
    },
    {
     "name": "stderr",
     "output_type": "stream",
     "text": [
      " 68%|██████▊   | 723/1066 [01:43<00:49,  6.96it/s]"
     ]
    },
    {
     "name": "stdout",
     "output_type": "stream",
     "text": [
      "token:  #rer \tsuggest:  rer c\n",
      "token:  rerb \tsuggest:  rer b\n"
     ]
    },
    {
     "name": "stderr",
     "output_type": "stream",
     "text": [
      " 68%|██████▊   | 729/1066 [01:44<00:48,  6.96it/s]"
     ]
    },
    {
     "name": "stdout",
     "output_type": "stream",
     "text": [
      "token:  rera \tsuggest:  rer a\n"
     ]
    },
    {
     "name": "stderr",
     "output_type": "stream",
     "text": [
      " 69%|██████▉   | 735/1066 [01:45<00:47,  6.96it/s]"
     ]
    },
    {
     "name": "stdout",
     "output_type": "stream",
     "text": [
      "token:   infotrafi \tsuggest:  info trafic\n",
      "token:  u saint-clo \tsuggest:  saint cloud\n",
      "token:   #lign \tsuggest:  ligne\n"
     ]
    },
    {
     "name": "stderr",
     "output_type": "stream",
     "text": [
      " 69%|██████▉   | 739/1066 [01:46<00:46,  6.96it/s]"
     ]
    },
    {
     "name": "stdout",
     "output_type": "stream",
     "text": [
      "token:  n' est \tsuggest:  n'est\n",
      "token:  l' heure \tsuggest:  l'heure\n",
      "token:  lignej \tsuggest:  ligne j\n"
     ]
    },
    {
     "name": "stderr",
     "output_type": "stream",
     "text": [
      " 70%|██████▉   | 741/1066 [01:46<00:46,  6.97it/s]"
     ]
    },
    {
     "name": "stdout",
     "output_type": "stream",
     "text": [
      "token:   infotrafi \tsuggest:  info trafic\n"
     ]
    },
    {
     "name": "stderr",
     "output_type": "stream",
     "text": [
      " 70%|██████▉   | 746/1066 [01:47<00:45,  6.96it/s]"
     ]
    },
    {
     "name": "stdout",
     "output_type": "stream",
     "text": [
      "token:  rerb \tsuggest:  rer b\n",
      "token:  j' aime \tsuggest:  j'aime\n",
      "token:  rerb \tsuggest:  rer b\n"
     ]
    },
    {
     "name": "stderr",
     "output_type": "stream",
     "text": [
      " 71%|███████   | 759/1066 [01:49<00:44,  6.96it/s]"
     ]
    },
    {
     "name": "stdout",
     "output_type": "stream",
     "text": [
      "token:  ligne13 \tsuggest:  ligne 13\n",
      "token:  p #lign \tsuggest:  ligne 13\n",
      "token:  ray j' ar \tsuggest:  j'arrive\n"
     ]
    },
    {
     "name": "stderr",
     "output_type": "stream",
     "text": [
      " 71%|███████▏  | 761/1066 [01:49<00:43,  6.96it/s]"
     ]
    },
    {
     "name": "stdout",
     "output_type": "stream",
     "text": [
      "token:  #mot \tsuggest:  top 5\n",
      "token:  ligne11 \tsuggest:  ligne 11\n",
      "token:  rera \tsuggest:  rer a\n"
     ]
    },
    {
     "name": "stderr",
     "output_type": "stream",
     "text": [
      " 72%|███████▏  | 763/1066 [01:49<00:43,  6.96it/s]"
     ]
    },
    {
     "name": "stdout",
     "output_type": "stream",
     "text": [
      "token:  rera \tsuggest:  rer a\n"
     ]
    },
    {
     "name": "stderr",
     "output_type": "stream",
     "text": [
      " 72%|███████▏  | 769/1066 [01:50<00:42,  6.97it/s]"
     ]
    },
    {
     "name": "stdout",
     "output_type": "stream",
     "text": [
      "token:  ligne14 \tsuggest:  ligne 14\n",
      "token:  ligne1 \tsuggest:  ligne 1\n",
      "token:   au tou \tsuggest:  autour\n",
      "token:  @ligne1 \tsuggest:  ligne 11\n"
     ]
    },
    {
     "name": "stderr",
     "output_type": "stream",
     "text": [
      " 72%|███████▏  | 771/1066 [01:50<00:42,  6.97it/s]"
     ]
    },
    {
     "name": "stdout",
     "output_type": "stream",
     "text": [
      "token:  ligne12 \tsuggest:  ligne 12\n",
      "token:  rerb \tsuggest:  rer b\n",
      "token:  ligne14 \tsuggest:  ligne 14\n"
     ]
    },
    {
     "name": "stderr",
     "output_type": "stream",
     "text": [
      " 73%|███████▎  | 780/1066 [01:52<00:41,  6.96it/s]"
     ]
    },
    {
     "name": "stdout",
     "output_type": "stream",
     "text": [
      "token:  rera \tsuggest:  rer a\n",
      "token:  ladefense \tsuggest:  la defense\n",
      "token:  rera \tsuggest:  rer a\n"
     ]
    },
    {
     "name": "stderr",
     "output_type": "stream",
     "text": [
      " 73%|███████▎  | 783/1066 [01:52<00:40,  6.97it/s]"
     ]
    },
    {
     "name": "stdout",
     "output_type": "stream",
     "text": [
      "token:  rera \tsuggest:  rer a\n"
     ]
    },
    {
     "name": "stderr",
     "output_type": "stream",
     "text": [
      " 75%|███████▍  | 796/1066 [01:54<00:38,  6.96it/s]"
     ]
    },
    {
     "name": "stdout",
     "output_type": "stream",
     "text": [
      "token:  n' est \tsuggest:  n'est\n",
      "token:  lignej \tsuggest:  ligne j\n"
     ]
    },
    {
     "name": "stderr",
     "output_type": "stream",
     "text": [
      " 75%|███████▍  | 798/1066 [01:54<00:38,  6.96it/s]"
     ]
    },
    {
     "name": "stdout",
     "output_type": "stream",
     "text": [
      "token:  #rer \tsuggest:  rer a\n",
      "token:   #statistiquesbido \tsuggest:  statistiques bidons\n"
     ]
    },
    {
     "name": "stderr",
     "output_type": "stream",
     "text": [
      " 75%|███████▌  | 800/1066 [01:54<00:38,  6.96it/s]"
     ]
    },
    {
     "name": "stdout",
     "output_type": "stream",
     "text": [
      "token:  quivapartirenpremier \tsuggest:  quivapartir en premier\n",
      "token:  ladefense \tsuggest:  la defense\n",
      "token:  rera \tsuggest:  rer a\n"
     ]
    },
    {
     "name": "stderr",
     "output_type": "stream",
     "text": [
      " 76%|███████▌  | 806/1066 [01:55<00:37,  6.96it/s]"
     ]
    },
    {
     "name": "stdout",
     "output_type": "stream",
     "text": [
      "token:  rerb \tsuggest:  rer b\n"
     ]
    },
    {
     "name": "stderr",
     "output_type": "stream",
     "text": [
      " 76%|███████▌  | 809/1066 [01:56<00:36,  6.95it/s]"
     ]
    },
    {
     "name": "stdout",
     "output_type": "stream",
     "text": [
      "token:  rera \tsuggest:  rer a\n"
     ]
    },
    {
     "name": "stderr",
     "output_type": "stream",
     "text": [
      " 76%|███████▋  | 813/1066 [01:56<00:36,  6.95it/s]"
     ]
    },
    {
     "name": "stdout",
     "output_type": "stream",
     "text": [
      "token:   infotrafi \tsuggest:  info trafic\n",
      "token:   #lign \tsuggest:  ligne\n"
     ]
    },
    {
     "name": "stderr",
     "output_type": "stream",
     "text": [
      " 77%|███████▋  | 820/1066 [01:57<00:35,  6.95it/s]"
     ]
    },
    {
     "name": "stdout",
     "output_type": "stream",
     "text": [
      "token:  rerb! #ulle24 \tsuggest:  rerbulle24\n",
      "token:  l' heure \tsuggest:  l'heure\n",
      "token:  vertgalant \tsuggest:  vert galant\n"
     ]
    },
    {
     "name": "stderr",
     "output_type": "stream",
     "text": [
      " 77%|███████▋  | 823/1066 [01:58<00:34,  6.95it/s]"
     ]
    },
    {
     "name": "stdout",
     "output_type": "stream",
     "text": [
      "token:  rerb \tsuggest:  rer b\n"
     ]
    },
    {
     "name": "stderr",
     "output_type": "stream",
     "text": [
      " 77%|███████▋  | 825/1066 [01:58<00:34,  6.95it/s]"
     ]
    },
    {
     "name": "stdout",
     "output_type": "stream",
     "text": [
      "token:  rera \tsuggest:  rer a\n"
     ]
    },
    {
     "name": "stderr",
     "output_type": "stream",
     "text": [
      " 78%|███████▊  | 828/1066 [01:59<00:34,  6.95it/s]"
     ]
    },
    {
     "name": "stdout",
     "output_type": "stream",
     "text": [
      "token:  enzo59 \tsuggest:  enzo 59\n",
      "token:  rerb \tsuggest:  rer b\n",
      "token:  rerb \tsuggest:  rer b\n"
     ]
    },
    {
     "name": "stderr",
     "output_type": "stream",
     "text": [
      " 78%|███████▊  | 832/1066 [01:59<00:33,  6.95it/s]"
     ]
    },
    {
     "name": "stdout",
     "output_type": "stream",
     "text": [
      "token:  rerd \tsuggest:  rer d\n"
     ]
    },
    {
     "name": "stderr",
     "output_type": "stream",
     "text": [
      " 79%|███████▊  | 839/1066 [02:00<00:32,  6.95it/s]"
     ]
    },
    {
     "name": "stdout",
     "output_type": "stream",
     "text": [
      "token:  ladéfense \tsuggest:  la défense\n"
     ]
    },
    {
     "name": "stderr",
     "output_type": "stream",
     "text": [
      " 79%|███████▉  | 846/1066 [02:01<00:31,  6.96it/s]"
     ]
    },
    {
     "name": "stdout",
     "output_type": "stream",
     "text": [
      "token:  d' ailleurs \tsuggest:  d'ailleurs\n",
      "token:  rerb \tsuggest:  rer b\n"
     ]
    },
    {
     "name": "stderr",
     "output_type": "stream",
     "text": [
      " 80%|███████▉  | 848/1066 [02:01<00:31,  6.96it/s]"
     ]
    },
    {
     "name": "stdout",
     "output_type": "stream",
     "text": [
      "token:  rerb \tsuggest:  rer b\n"
     ]
    },
    {
     "name": "stderr",
     "output_type": "stream",
     "text": [
      " 80%|████████  | 854/1066 [02:02<00:30,  6.97it/s]"
     ]
    },
    {
     "name": "stdout",
     "output_type": "stream",
     "text": [
      "token:  rerb \tsuggest:  rer b\n",
      "token:  envoyespecial \tsuggest:  envoye special\n"
     ]
    },
    {
     "name": "stderr",
     "output_type": "stream",
     "text": [
      " 80%|████████  | 857/1066 [02:02<00:29,  6.97it/s]"
     ]
    },
    {
     "name": "stdout",
     "output_type": "stream",
     "text": [
      "token:  rerd \tsuggest:  rer d\n",
      "token:  rerb \tsuggest:  rer b\n",
      "token:  rerc \tsuggest:  rer c\n",
      "token:  rerd \tsuggest:  rer d\n",
      "token:  rerb \tsuggest:  rer b\n",
      "token:  rerc \tsuggest:  rer c\n"
     ]
    },
    {
     "name": "stderr",
     "output_type": "stream",
     "text": [
      " 81%|████████  | 862/1066 [02:03<00:29,  6.97it/s]"
     ]
    },
    {
     "name": "stdout",
     "output_type": "stream",
     "text": [
      "token:  ligne1 \tsuggest:  ligne 1\n"
     ]
    },
    {
     "name": "stderr",
     "output_type": "stream",
     "text": [
      " 81%|████████  | 866/1066 [02:04<00:28,  6.97it/s]"
     ]
    },
    {
     "name": "stdout",
     "output_type": "stream",
     "text": [
      "token:  j' suis \tsuggest:  j'suis\n",
      "token:  ligneh \tsuggest:  ligne h\n",
      "token:  ligneh \tsuggest:  ligne h\n"
     ]
    },
    {
     "name": "stderr",
     "output_type": "stream",
     "text": [
      " 82%|████████▏ | 874/1066 [02:05<00:27,  6.97it/s]"
     ]
    },
    {
     "name": "stdout",
     "output_type": "stream",
     "text": [
      "token:  rera \tsuggest:  rer a\n",
      "token:  envoyespeciale \tsuggest:  envoye speciale\n"
     ]
    },
    {
     "name": "stderr",
     "output_type": "stream",
     "text": [
      " 83%|████████▎ | 889/1066 [02:07<00:25,  6.98it/s]"
     ]
    },
    {
     "name": "stdout",
     "output_type": "stream",
     "text": [
      "token:  lesgens \tsuggest:  les gens\n"
     ]
    },
    {
     "name": "stderr",
     "output_type": "stream",
     "text": [
      " 84%|████████▍ | 899/1066 [02:08<00:23,  6.97it/s]"
     ]
    },
    {
     "name": "stdout",
     "output_type": "stream",
     "text": [
      "token:  rerd \tsuggest:  rer d\n"
     ]
    },
    {
     "name": "stderr",
     "output_type": "stream",
     "text": [
      " 85%|████████▍ | 906/1066 [02:09<00:22,  6.97it/s]"
     ]
    },
    {
     "name": "stdout",
     "output_type": "stream",
     "text": [
      "token:  rerb \tsuggest:  rer b\n"
     ]
    },
    {
     "name": "stderr",
     "output_type": "stream",
     "text": [
      " 85%|████████▌ | 908/1066 [02:10<00:22,  6.97it/s]"
     ]
    },
    {
     "name": "stdout",
     "output_type": "stream",
     "text": [
      "token:  rerb \tsuggest:  rer b\n",
      "token:  rerb \tsuggest:  rer b\n"
     ]
    },
    {
     "name": "stderr",
     "output_type": "stream",
     "text": [
      " 85%|████████▌ | 911/1066 [02:10<00:22,  6.96it/s]"
     ]
    },
    {
     "name": "stdout",
     "output_type": "stream",
     "text": [
      "token:  rerb \tsuggest:  rer b\n",
      "token:  rerb \tsuggest:  rer b\n",
      "token:  saint-rémy \tsuggest:  saint rémy\n"
     ]
    },
    {
     "name": "stderr",
     "output_type": "stream",
     "text": [
      " 87%|████████▋ | 927/1066 [02:13<00:19,  6.96it/s]"
     ]
    },
    {
     "name": "stdout",
     "output_type": "stream",
     "text": [
      "token:  rerb \tsuggest:  rer b\n"
     ]
    },
    {
     "name": "stderr",
     "output_type": "stream",
     "text": [
      " 87%|████████▋ | 929/1066 [02:13<00:19,  6.96it/s]"
     ]
    },
    {
     "name": "stdout",
     "output_type": "stream",
     "text": [
      "token:  rerb \tsuggest:  rer b\n"
     ]
    },
    {
     "name": "stderr",
     "output_type": "stream",
     "text": [
      " 87%|████████▋ | 932/1066 [02:13<00:19,  6.96it/s]"
     ]
    },
    {
     "name": "stdout",
     "output_type": "stream",
     "text": [
      "token:  rerb \tsuggest:  rer b\n"
     ]
    },
    {
     "name": "stderr",
     "output_type": "stream",
     "text": [
      " 88%|████████▊ | 935/1066 [02:14<00:18,  6.96it/s]"
     ]
    },
    {
     "name": "stdout",
     "output_type": "stream",
     "text": [
      "token:  d' un \tsuggest:  d'un\n",
      "token:  rerb \tsuggest:  rer b\n"
     ]
    },
    {
     "name": "stderr",
     "output_type": "stream",
     "text": [
      " 88%|████████▊ | 938/1066 [02:16<00:18,  6.87it/s]"
     ]
    },
    {
     "name": "stdout",
     "output_type": "stream",
     "text": [
      "token:  rerc \tsuggest:  rer c\n",
      "token:  rerc \tsuggest:  rer c\n"
     ]
    },
    {
     "name": "stderr",
     "output_type": "stream",
     "text": [
      " 88%|████████▊ | 942/1066 [02:17<00:18,  6.86it/s]"
     ]
    },
    {
     "name": "stdout",
     "output_type": "stream",
     "text": [
      "token:   quo \tsuggest:  qu on\n",
      "token:  smileytrains #qml \tsuggest:  smileytrainsqml\n",
      "token:  c' est \tsuggest:  c'est\n"
     ]
    },
    {
     "name": "stderr",
     "output_type": "stream",
     "text": [
      " 89%|████████▊ | 945/1066 [02:17<00:17,  6.86it/s]"
     ]
    },
    {
     "name": "stdout",
     "output_type": "stream",
     "text": [
      "token:  #ligne \tsuggest:  ligne h\n"
     ]
    },
    {
     "name": "stderr",
     "output_type": "stream",
     "text": [
      " 89%|████████▉ | 948/1066 [02:18<00:17,  6.86it/s]"
     ]
    },
    {
     "name": "stdout",
     "output_type": "stream",
     "text": [
      "token:  rerb \tsuggest:  rer b\n"
     ]
    },
    {
     "name": "stderr",
     "output_type": "stream",
     "text": [
      " 89%|████████▉ | 954/1066 [02:18<00:16,  6.87it/s]"
     ]
    },
    {
     "name": "stdout",
     "output_type": "stream",
     "text": [
      "token:  rerb \tsuggest:  rer b\n",
      "token:  qml mdddr \tsuggest:  qmlmdddr\n"
     ]
    },
    {
     "name": "stderr",
     "output_type": "stream",
     "text": [
      " 90%|█████████ | 964/1066 [02:20<00:14,  6.87it/s]"
     ]
    },
    {
     "name": "stdout",
     "output_type": "stream",
     "text": [
      "token:   infotrafi \tsuggest:  info trafic\n",
      "token:   #lign \tsuggest:  ligne\n",
      "token:   infotrafi \tsuggest:  info trafic\n",
      "token:   #lign \tsuggest:  ligne\n"
     ]
    },
    {
     "name": "stderr",
     "output_type": "stream",
     "text": [
      " 91%|█████████ | 969/1066 [02:21<00:14,  6.87it/s]"
     ]
    },
    {
     "name": "stdout",
     "output_type": "stream",
     "text": [
      "token:  rerb \tsuggest:  rer b\n",
      "token:  rerb \tsuggest:  rer b\n"
     ]
    },
    {
     "name": "stderr",
     "output_type": "stream",
     "text": [
      " 91%|█████████ | 972/1066 [02:21<00:13,  6.87it/s]"
     ]
    },
    {
     "name": "stdout",
     "output_type": "stream",
     "text": [
      "token:  ligneh \tsuggest:  ligne h\n"
     ]
    },
    {
     "name": "stderr",
     "output_type": "stream",
     "text": [
      " 92%|█████████▏| 977/1066 [02:22<00:12,  6.87it/s]"
     ]
    },
    {
     "name": "stdout",
     "output_type": "stream",
     "text": [
      "token:  rerc \tsuggest:  rer c\n"
     ]
    },
    {
     "name": "stderr",
     "output_type": "stream",
     "text": [
      " 92%|█████████▏| 980/1066 [02:22<00:12,  6.87it/s]"
     ]
    },
    {
     "name": "stdout",
     "output_type": "stream",
     "text": [
      "token:  rerd \tsuggest:  rer d\n",
      "token:   éffectué \tsuggest:  effectué\n",
      "token:  c' est \tsuggest:  c'est\n",
      "token:  rerc \tsuggest:  rer c\n"
     ]
    },
    {
     "name": "stderr",
     "output_type": "stream",
     "text": [
      " 92%|█████████▏| 982/1066 [02:23<00:12,  6.87it/s]"
     ]
    },
    {
     "name": "stdout",
     "output_type": "stream",
     "text": [
      "token:  rerd \tsuggest:  rer d\n",
      "token:  ligne13 \tsuggest:  ligne 13\n"
     ]
    },
    {
     "name": "stderr",
     "output_type": "stream",
     "text": [
      " 92%|█████████▏| 984/1066 [02:23<00:11,  6.86it/s]"
     ]
    },
    {
     "name": "stdout",
     "output_type": "stream",
     "text": [
      "token:  ligne7 \tsuggest:  ligne 7\n",
      "token:  ligne13 \tsuggest:  ligne 13\n"
     ]
    },
    {
     "name": "stderr",
     "output_type": "stream",
     "text": [
      " 93%|█████████▎| 990/1066 [02:24<00:11,  6.87it/s]"
     ]
    },
    {
     "name": "stdout",
     "output_type": "stream",
     "text": [
      "token:  ligne1 \tsuggest:  ligne 1\n"
     ]
    },
    {
     "name": "stderr",
     "output_type": "stream",
     "text": [
      " 93%|█████████▎| 992/1066 [02:24<00:10,  6.87it/s]"
     ]
    },
    {
     "name": "stdout",
     "output_type": "stream",
     "text": [
      "token:  ligneh \tsuggest:  ligne h\n"
     ]
    },
    {
     "name": "stderr",
     "output_type": "stream",
     "text": [
      " 93%|█████████▎| 994/1066 [02:24<00:10,  6.87it/s]"
     ]
    },
    {
     "name": "stdout",
     "output_type": "stream",
     "text": [
      "token:  ligneh \tsuggest:  ligne h\n",
      "token:  rerc \tsuggest:  rer c\n"
     ]
    },
    {
     "name": "stderr",
     "output_type": "stream",
     "text": [
      " 94%|█████████▎| 998/1066 [02:25<00:09,  6.87it/s]"
     ]
    },
    {
     "name": "stdout",
     "output_type": "stream",
     "text": [
      "token:  rerd \tsuggest:  rer d\n"
     ]
    },
    {
     "name": "stderr",
     "output_type": "stream",
     "text": [
      " 94%|█████████▍| 1007/1066 [02:26<00:08,  6.87it/s]"
     ]
    },
    {
     "name": "stdout",
     "output_type": "stream",
     "text": [
      "token:  rerb \tsuggest:  rer b\n",
      "token:  lignen \tsuggest:  ligne n\n",
      "token:  lignesnetu \tsuggest:  lignes net\n"
     ]
    },
    {
     "name": "stderr",
     "output_type": "stream",
     "text": [
      " 95%|█████████▍| 1010/1066 [02:26<00:08,  6.87it/s]"
     ]
    },
    {
     "name": "stdout",
     "output_type": "stream",
     "text": [
      "token:  rera \tsuggest:  rer a\n",
      "token:  : ofre \tsuggest:  offre 48\n",
      "token:  - ofre \tsuggest:  offre 50\n"
     ]
    },
    {
     "name": "stderr",
     "output_type": "stream",
     "text": [
      " 95%|█████████▌| 1016/1066 [02:27<00:07,  6.87it/s]"
     ]
    },
    {
     "name": "stdout",
     "output_type": "stream",
     "text": [
      "token:  rera \tsuggest:  rer a\n",
      "token:  : ofre \tsuggest:  offre 52\n",
      "token:  a l' heu \tsuggest:  l'heure\n"
     ]
    },
    {
     "name": "stderr",
     "output_type": "stream",
     "text": [
      " 96%|█████████▌| 1020/1066 [02:28<00:06,  6.87it/s]"
     ]
    },
    {
     "name": "stdout",
     "output_type": "stream",
     "text": [
      "token:  rera \tsuggest:  rer a\n"
     ]
    },
    {
     "name": "stderr",
     "output_type": "stream",
     "text": [
      " 97%|█████████▋| 1031/1066 [02:29<00:05,  6.88it/s]"
     ]
    },
    {
     "name": "stdout",
     "output_type": "stream",
     "text": [
      "token:  gdlyon \tsuggest:  gd lyon\n",
      "token:  rera \tsuggest:  rer a\n",
      "token:  l' heure \tsuggest:  l'heure\n"
     ]
    },
    {
     "name": "stderr",
     "output_type": "stream",
     "text": [
      " 97%|█████████▋| 1035/1066 [02:30<00:04,  6.88it/s]"
     ]
    },
    {
     "name": "stdout",
     "output_type": "stream",
     "text": [
      "token:  rera \tsuggest:  rer a\n"
     ]
    },
    {
     "name": "stderr",
     "output_type": "stream",
     "text": [
      " 97%|█████████▋| 1039/1066 [02:31<00:03,  6.88it/s]"
     ]
    },
    {
     "name": "stdout",
     "output_type": "stream",
     "text": [
      "token:  rera \tsuggest:  rer a\n"
     ]
    },
    {
     "name": "stderr",
     "output_type": "stream",
     "text": [
      " 98%|█████████▊| 1046/1066 [02:32<00:02,  6.88it/s]"
     ]
    },
    {
     "name": "stdout",
     "output_type": "stream",
     "text": [
      "token:  rera \tsuggest:  rer a\n"
     ]
    },
    {
     "name": "stderr",
     "output_type": "stream",
     "text": [
      " 99%|█████████▊| 1051/1066 [02:32<00:02,  6.88it/s]"
     ]
    },
    {
     "name": "stdout",
     "output_type": "stream",
     "text": [
      "token:  rerpourtouspowa rt \tsuggest:  repourtouspowart\n",
      "token:  imnotalone: #rer \tsuggest:  imnotlonerera\n"
     ]
    },
    {
     "name": "stderr",
     "output_type": "stream",
     "text": [
      " 99%|█████████▉| 1056/1066 [02:33<00:01,  6.88it/s]"
     ]
    },
    {
     "name": "stdout",
     "output_type": "stream",
     "text": [
      "token:  rera \tsuggest:  rer a\n"
     ]
    },
    {
     "name": "stderr",
     "output_type": "stream",
     "text": [
      " 99%|█████████▉| 1059/1066 [02:33<00:01,  6.88it/s]"
     ]
    },
    {
     "name": "stdout",
     "output_type": "stream",
     "text": [
      "token:  rera \tsuggest:  rer a\n",
      "token:  jusqu' à \tsuggest:  jusqu'à\n",
      "token:  env. \tsuggest:  en v\n",
      "token:  j' appelle \tsuggest:  j'appelle\n",
      "token:  rera \tsuggest:  rer a\n"
     ]
    },
    {
     "name": "stderr",
     "output_type": "stream",
     "text": [
      "100%|█████████▉| 1061/1066 [02:34<00:00,  6.88it/s]"
     ]
    },
    {
     "name": "stdout",
     "output_type": "stream",
     "text": [
      "token:  ladefense \tsuggest:  la defense\n",
      "token:  rera \tsuggest:  rer a\n",
      "token:  rera \tsuggest:  rer a\n"
     ]
    },
    {
     "name": "stderr",
     "output_type": "stream",
     "text": [
      "100%|█████████▉| 1063/1066 [02:34<00:00,  6.88it/s]"
     ]
    },
    {
     "name": "stdout",
     "output_type": "stream",
     "text": [
      "token:  rera \tsuggest:  rer a\n"
     ]
    },
    {
     "name": "stderr",
     "output_type": "stream",
     "text": [
      "100%|██████████| 1066/1066 [02:34<00:00,  6.88it/s]\n"
     ]
    }
   ],
   "source": [
    "fixed = []\n",
    "\n",
    "for tokens, tags in tqdm(all_data[2624:]):\n",
    "    data = {'text': untokenize(tokens)}\n",
    "    body = urllib.parse.urlencode(data)\n",
    "    conn.request (\"POST\", path + params, body, headers)\n",
    "    response = conn.getresponse()\n",
    "    output = json.loads(response.read())\n",
    "    \n",
    "    fixed_text = spellsafe(' '.join(tokens), output)\n",
    "    fixed_tokens = fixed_text.split(' ')\n",
    "    assert len(fixed_tokens) == len(tags), output\n",
    "\n",
    "    fixed.append((fixed_tokens, tags))\n",
    "    sleep(1/100.)"
   ]
  },
  {
   "cell_type": "code",
   "execution_count": 71,
   "metadata": {},
   "outputs": [],
   "source": [
    "with open('../data/CAp/test_spellchecked.pkl', 'wb') as f:\n",
    "    pickle.dump(fixed, f)"
   ]
  },
  {
   "cell_type": "markdown",
   "metadata": {},
   "source": [
    "# Loading and splitting train set"
   ]
  },
  {
   "cell_type": "code",
   "execution_count": 96,
   "metadata": {},
   "outputs": [],
   "source": [
    "with open('data/CAp/fixed.pkl', 'rb') as f:\n",
    "    fixed = pickle.load(f)"
   ]
  },
  {
   "cell_type": "code",
   "execution_count": 114,
   "metadata": {},
   "outputs": [],
   "source": [
    "# for original dataset:\n",
    "fixed = all_data"
   ]
  },
  {
   "cell_type": "code",
   "execution_count": 121,
   "metadata": {},
   "outputs": [],
   "source": [
    "VAL_SIZE = 0.15\n",
    "\n",
    "indices = list(range(len(fixed)))\n",
    "np.random.shuffle(indices)\n",
    "\n",
    "val_idx = indices[:int(len(indices) * VAL_SIZE)]\n",
    "train_idx = indices[len(val_idx):]\n",
    "\n",
    "train = []\n",
    "valid = []\n",
    "\n",
    "for i in train_idx:\n",
    "    train.append(fixed[i])\n",
    "\n",
    "for i in val_idx:\n",
    "    valid.append(fixed[i])"
   ]
  },
  {
   "cell_type": "code",
   "execution_count": 122,
   "metadata": {},
   "outputs": [
    {
     "data": {
      "text/plain": [
       "(2551, 450)"
      ]
     },
     "execution_count": 122,
     "metadata": {},
     "output_type": "execute_result"
    }
   ],
   "source": [
    "len(train), len(valid)"
   ]
  },
  {
   "cell_type": "code",
   "execution_count": 109,
   "metadata": {},
   "outputs": [
    {
     "data": {
      "text/plain": [
       "(['@theedadr',\n",
       "  '@gaton__',\n",
       "  'la',\n",
       "  'c’est',\n",
       "  'bon',\n",
       "  'on',\n",
       "  'devrait',\n",
       "  'pas',\n",
       "  'le',\n",
       "  'voir',\n",
       "  'avant',\n",
       "  '#',\n",
       "  'ans',\n",
       "  'minimum',\n",
       "  '😂'],\n",
       " ['O', 'O', 'O', 'O', 'O', 'O', 'O', 'O', 'O', 'O', 'O', 'O', 'O', 'O', 'O'])"
      ]
     },
     "execution_count": 109,
     "metadata": {},
     "output_type": "execute_result"
    }
   ],
   "source": [
    "train[0]"
   ]
  },
  {
   "cell_type": "code",
   "execution_count": 110,
   "metadata": {},
   "outputs": [
    {
     "data": {
      "text/plain": [
       "(['purger',\n",
       "  'sa',\n",
       "  'peine',\n",
       "  'au',\n",
       "  'plus',\n",
       "  'proche',\n",
       "  'des',\n",
       "  'siens',\n",
       "  '.',\n",
       "  'https://t.co/nrwm5p241u'],\n",
       " ['O', 'O', 'O', 'O', 'O', 'O', 'O', 'O', 'O', 'O'])"
      ]
     },
     "execution_count": 110,
     "metadata": {},
     "output_type": "execute_result"
    }
   ],
   "source": [
    "valid[0]"
   ]
  },
  {
   "cell_type": "code",
   "execution_count": null,
   "metadata": {},
   "outputs": [],
   "source": []
  },
  {
   "cell_type": "code",
   "execution_count": 83,
   "metadata": {},
   "outputs": [],
   "source": [
    "with open('../data/CAp/test_spellchecked.pkl', 'rb') as f:\n",
    "    test = pickle.load(f)"
   ]
  },
  {
   "cell_type": "code",
   "execution_count": 84,
   "metadata": {},
   "outputs": [
    {
     "data": {
      "text/plain": [
       "1066"
      ]
     },
     "execution_count": 84,
     "metadata": {},
     "output_type": "execute_result"
    }
   ],
   "source": [
    "len(test)"
   ]
  },
  {
   "cell_type": "code",
   "execution_count": 125,
   "metadata": {},
   "outputs": [
    {
     "data": {
      "text/plain": [
       "(['rt',\n",
       "  '@cestrosi',\n",
       "  ':',\n",
       "  'ce',\n",
       "  'midi',\n",
       "  ',',\n",
       "  'j',\n",
       "  \"'\",\n",
       "  'ai',\n",
       "  'rappelé',\n",
       "  'notre',\n",
       "  'volonté',\n",
       "  'sans',\n",
       "  'faille',\n",
       "  'de',\n",
       "  'construire',\n",
       "  'ligne',\n",
       "  'à',\n",
       "  'grande',\n",
       "  'vitesse',\n",
       "  'ds',\n",
       "  'notre',\n",
       "  'région',\n",
       "  '#projetlnpca',\n",
       "  'https://t',\n",
       "  '.',\n",
       "  'c',\n",
       "  '…'],\n",
       " ['O',\n",
       "  'O',\n",
       "  'O',\n",
       "  'O',\n",
       "  'O',\n",
       "  'O',\n",
       "  'O',\n",
       "  'O',\n",
       "  'O',\n",
       "  'O',\n",
       "  'O',\n",
       "  'O',\n",
       "  'O',\n",
       "  'O',\n",
       "  'O',\n",
       "  'O',\n",
       "  'O',\n",
       "  'O',\n",
       "  'O',\n",
       "  'O',\n",
       "  'O',\n",
       "  'O',\n",
       "  'O',\n",
       "  'O',\n",
       "  'O',\n",
       "  'O',\n",
       "  'O',\n",
       "  'O'])"
      ]
     },
     "execution_count": 125,
     "metadata": {},
     "output_type": "execute_result"
    }
   ],
   "source": [
    "test[1]"
   ]
  },
  {
   "cell_type": "code",
   "execution_count": 123,
   "metadata": {},
   "outputs": [],
   "source": [
    "dataset_dict = {'train': train, 'valid': valid, 'test': test}"
   ]
  },
  {
   "cell_type": "code",
   "execution_count": 126,
   "metadata": {},
   "outputs": [],
   "source": [
    "with open('data/CAp/dataset_original_dict.pkl', 'wb') as f:\n",
    "    pickle.dump(dataset_dict, f)"
   ]
  },
  {
   "cell_type": "code",
   "execution_count": 87,
   "metadata": {},
   "outputs": [],
   "source": [
    "with open('../data/CAp/dataset_dict.pkl', 'wb') as f:\n",
    "    pickle.dump(dataset_dict, f)"
   ]
  },
  {
   "cell_type": "code",
   "execution_count": null,
   "metadata": {},
   "outputs": [],
   "source": []
  }
 ],
 "metadata": {
  "kernelspec": {
   "display_name": "Python 3",
   "language": "python",
   "name": "python3"
  },
  "language_info": {
   "codemirror_mode": {
    "name": "ipython",
    "version": 3
   },
   "file_extension": ".py",
   "mimetype": "text/x-python",
   "name": "python",
   "nbconvert_exporter": "python",
   "pygments_lexer": "ipython3",
   "version": "3.6.5"
  }
 },
 "nbformat": 4,
 "nbformat_minor": 2
}
