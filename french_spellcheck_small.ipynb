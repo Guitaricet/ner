{
 "cells": [
  {
   "cell_type": "code",
   "execution_count": 1,
   "metadata": {},
   "outputs": [],
   "source": [
    "import http.client, urllib.parse, json, string, pickle\n",
    "from time import sleep\n",
    "\n",
    "import pandas as pd\n",
    "import numpy as np\n",
    "\n",
    "from tqdm import tqdm\n",
    "\n",
    "np.random.seed(42)"
   ]
  },
  {
   "cell_type": "code",
   "execution_count": 2,
   "metadata": {},
   "outputs": [],
   "source": [
    "def read_data(datapath):\n",
    "    n_errors = 0\n",
    "    was_error = False\n",
    "\n",
    "    with open(datapath) as f:\n",
    "        xy_list = list()\n",
    "        tokens = list()\n",
    "        tags = list()\n",
    "        \n",
    "        for line in f:\n",
    "            # format error handling:\n",
    "            if was_error:\n",
    "                if line != '\\n':\n",
    "                    continue\n",
    "                else:\n",
    "                    was_error = False\n",
    "\n",
    "            items = line.strip('\\n').strip('\\t').split('\\t')\n",
    "            if len(items) == 2:\n",
    "                token, tag = items\n",
    "                if token[0].isdigit():\n",
    "                    tokens.append('#')\n",
    "                else:\n",
    "                    # is you want static noise, add it here\n",
    "                    tokens.append(token.lower())\n",
    "                tags.append(tag)\n",
    "            elif line == '\\n':\n",
    "                xy_list.append((tokens, tags,))\n",
    "                tokens = list()\n",
    "                tags = list()\n",
    "            else:\n",
    "                # format error handling\n",
    "                print(line)\n",
    "                n_errors += 1\n",
    "                was_error = True\n",
    "                continue\n",
    "    if n_errors > 0:\n",
    "        print('Reading is done with {} errors'.format(n_errors))\n",
    "    return xy_list\n"
   ]
  },
  {
   "cell_type": "code",
   "execution_count": 3,
   "metadata": {},
   "outputs": [],
   "source": [
    "def argmax_suggestion(suggestions):\n",
    "    argmax = 0\n",
    "    for i, s in enumerate(suggestions):\n",
    "#         print(s)\n",
    "        if s['score'] > suggestions[argmax]['score']:\n",
    "            argmax = i\n",
    "    return argmax\n",
    "\n",
    "def spellsafe(text, spellchecker_output):\n",
    "    assert '_type' in spellchecker_output, spellchecker_output\n",
    "    assert spellchecker_output['_type'] == 'SpellCheck', spellchecker_output\n",
    "\n",
    "    result = text\n",
    "    changes = {}\n",
    "    for token_info in spellchecker_output['flaggedTokens']:\n",
    "        \n",
    "        argmax = argmax_suggestion(token_info['suggestions'])\n",
    "        suggestion = token_info['suggestions'][argmax]['suggestion']\n",
    "        if ' ' in suggestion or ' ' in token_info['token']:\n",
    "#         if len(suggestion.split(' ')) > 1:\n",
    "            print('token: ', token_info['token'], '\\tsuggest: ', suggestion)\n",
    "            continue\n",
    "        token = token_info['token'].strip(' ').lstrip(' ')\n",
    "        changes[token] = suggestion\n",
    "    \n",
    "    for wrong, fixed in changes.items():\n",
    "        result = result.replace(wrong, fixed)\n",
    "    return result\n",
    "\n",
    "def untokenize(tokens):\n",
    "    text = ''\n",
    "    was_apostrophe = False\n",
    "    for token in tokens:\n",
    "        if token == \"'\":\n",
    "            was_apostrophe = True\n",
    "            text += token\n",
    "        elif token in string.punctuation:\n",
    "            was_apostrophe = False\n",
    "            text += token\n",
    "        elif was_apostrophe:\n",
    "            was_apostrophe = False\n",
    "            text += token\n",
    "        else:\n",
    "            was_apostrophe = False\n",
    "            text += ' ' + token\n",
    "    text = text.lstrip(' ')\n",
    "    return text"
   ]
  },
  {
   "cell_type": "code",
   "execution_count": 69,
   "metadata": {},
   "outputs": [
    {
     "name": "stdout",
     "output_type": "stream",
     "text": [
      "{'_type': 'SpellCheck', 'flaggedTokens': [{'offset': 0, 'token': 'Solut', 'type': 'UnknownToken', 'suggestions': [{'suggestion': 'salut', 'score': 1}]}], 'correctionType': 'High'}\n"
     ]
    }
   ],
   "source": [
    "text = 'Solut à tout!'\n",
    "\n",
    "data = {'text': text}\n",
    "\n",
    "# NOTE: Replace this example key with a valid subscription key.\n",
    "key = '7559af8fffdd432da93328d18b20e85a'\n",
    "\n",
    "host = 'api.cognitive.microsoft.com'\n",
    "path = '/bing/v7.0/spellcheck?'\n",
    "params = 'mkt=fr-fr&mode=spell'\n",
    "\n",
    "headers = {'Ocp-Apim-Subscription-Key': key,\n",
    "'Content-Type': 'application/x-www-form-urlencoded'}\n",
    "\n",
    "# The headers in the following example \n",
    "# are optional but should be considered as required:\n",
    "#\n",
    "# X-MSEdge-ClientIP: 999.999.999.999  \n",
    "# X-Search-Location: lat: +90.0000000000000;long: 00.0000000000000;re:100.000000000000\n",
    "# X-MSEdge-ClientID: <Client ID from Previous Response Goes Here>\n",
    "\n",
    "conn = http.client.HTTPSConnection(host)\n",
    "body = urllib.parse.urlencode(data)\n",
    "conn.request (\"POST\", path + params, body, headers)\n",
    "response = conn.getresponse()\n",
    "output = json.loads(response.read())\n",
    "print(output)"
   ]
  },
  {
   "cell_type": "code",
   "execution_count": 63,
   "metadata": {},
   "outputs": [
    {
     "name": "stderr",
     "output_type": "stream",
     "text": [
      "  1%|          | 2/377 [00:00<00:57,  6.57it/s]"
     ]
    },
    {
     "name": "stdout",
     "output_type": "stream",
     "text": [
      "token:  rera \tsuggest:  rer a\n",
      "token:  qml #uxol75 \tsuggest:  qmluxol75\n",
      "token:  rerb \tsuggest:  rer b\n"
     ]
    },
    {
     "name": "stderr",
     "output_type": "stream",
     "text": [
      "  1%|          | 4/377 [00:00<00:55,  6.67it/s]"
     ]
    },
    {
     "name": "stdout",
     "output_type": "stream",
     "text": [
      "token:  #rer \tsuggest:  rer b\n",
      "token:   stationn \tsuggest:  stationner\n",
      "token:   cite \tsuggest:  cite u\n"
     ]
    },
    {
     "name": "stderr",
     "output_type": "stream",
     "text": [
      "  2%|▏         | 9/377 [00:01<00:53,  6.88it/s]"
     ]
    },
    {
     "name": "stdout",
     "output_type": "stream",
     "text": [
      "token:  métro4 \tsuggest:  métro 4\n",
      "token:  rera \tsuggest:  rer a\n"
     ]
    },
    {
     "name": "stderr",
     "output_type": "stream",
     "text": [
      "  4%|▎         | 14/377 [00:02<00:56,  6.48it/s]"
     ]
    },
    {
     "name": "stdout",
     "output_type": "stream",
     "text": [
      "token:  ligne1 \tsuggest:  ligne 1\n",
      "token:  rera \tsuggest:  rer a\n"
     ]
    },
    {
     "name": "stderr",
     "output_type": "stream",
     "text": [
      "  5%|▍         | 18/377 [00:02<00:54,  6.61it/s]"
     ]
    },
    {
     "name": "stdout",
     "output_type": "stream",
     "text": [
      "token:  ligne14 \tsuggest:  ligne 14\n",
      "token:  ligne13 \tsuggest:  ligne 13\n",
      "token:  grouperatp \tsuggest:  groupe ratp\n",
      "token:  ligne10 \tsuggest:  ligne 10\n",
      "token:  subwaypeople \tsuggest:  subway people\n"
     ]
    },
    {
     "name": "stderr",
     "output_type": "stream",
     "text": [
      "  7%|▋         | 27/377 [00:04<00:53,  6.50it/s]"
     ]
    },
    {
     "name": "stdout",
     "output_type": "stream",
     "text": [
      "token:  rerb \tsuggest:  rer b\n"
     ]
    },
    {
     "name": "stderr",
     "output_type": "stream",
     "text": [
      "  8%|▊         | 30/377 [00:04<00:52,  6.57it/s]"
     ]
    },
    {
     "name": "stdout",
     "output_type": "stream",
     "text": [
      "token:  weekend \tsuggest:  week end\n"
     ]
    },
    {
     "name": "stderr",
     "output_type": "stream",
     "text": [
      "  8%|▊         | 31/377 [00:04<00:52,  6.55it/s]"
     ]
    },
    {
     "name": "stdout",
     "output_type": "stream",
     "text": [
      "token:  sncfmonopole \tsuggest:  sncf monopole\n"
     ]
    },
    {
     "name": "stderr",
     "output_type": "stream",
     "text": [
      " 11%|█▏        | 43/377 [00:06<00:50,  6.56it/s]"
     ]
    },
    {
     "name": "stdout",
     "output_type": "stream",
     "text": [
      "token:  rerd \tsuggest:  rer d\n"
     ]
    },
    {
     "name": "stderr",
     "output_type": "stream",
     "text": [
      " 12%|█▏        | 45/377 [00:06<00:50,  6.58it/s]"
     ]
    },
    {
     "name": "stdout",
     "output_type": "stream",
     "text": [
      "token:  rera \tsuggest:  rer a\n",
      "token:  rera \tsuggest:  rer a\n"
     ]
    },
    {
     "name": "stderr",
     "output_type": "stream",
     "text": [
      " 13%|█▎        | 50/377 [00:07<00:49,  6.64it/s]"
     ]
    },
    {
     "name": "stdout",
     "output_type": "stream",
     "text": [
      "token:  rera \tsuggest:  rer a\n"
     ]
    },
    {
     "name": "stderr",
     "output_type": "stream",
     "text": [
      " 15%|█▍        | 56/377 [00:08<00:48,  6.67it/s]"
     ]
    },
    {
     "name": "stdout",
     "output_type": "stream",
     "text": [
      "token:   circulation \tsuggest:  circulation\n",
      "token:  #laverrier \tsuggest:  la verriere\n",
      "token:  #ladefens \tsuggest:  la défense\n"
     ]
    },
    {
     "name": "stderr",
     "output_type": "stream",
     "text": [
      " 16%|█▋        | 62/377 [00:09<00:46,  6.71it/s]"
     ]
    },
    {
     "name": "stdout",
     "output_type": "stream",
     "text": [
      "token:  rera \tsuggest:  rer a\n"
     ]
    },
    {
     "name": "stderr",
     "output_type": "stream",
     "text": [
      " 17%|█▋        | 64/377 [00:09<00:46,  6.72it/s]"
     ]
    },
    {
     "name": "stdout",
     "output_type": "stream",
     "text": [
      "token:  lignej \tsuggest:  ligne j\n"
     ]
    },
    {
     "name": "stderr",
     "output_type": "stream",
     "text": [
      " 19%|█▉        | 73/377 [00:10<00:45,  6.75it/s]"
     ]
    },
    {
     "name": "stdout",
     "output_type": "stream",
     "text": [
      "token:  rerb \tsuggest:  rer b\n"
     ]
    },
    {
     "name": "stderr",
     "output_type": "stream",
     "text": [
      " 20%|█▉        | 75/377 [00:11<00:44,  6.74it/s]"
     ]
    },
    {
     "name": "stdout",
     "output_type": "stream",
     "text": [
      "token:  rera \tsuggest:  rer a\n"
     ]
    },
    {
     "name": "stderr",
     "output_type": "stream",
     "text": [
      " 21%|██        | 79/377 [00:11<00:44,  6.77it/s]"
     ]
    },
    {
     "name": "stdout",
     "output_type": "stream",
     "text": [
      "token:  rera \tsuggest:  rer a\n"
     ]
    },
    {
     "name": "stderr",
     "output_type": "stream",
     "text": [
      " 21%|██▏       | 81/377 [00:11<00:43,  6.79it/s]"
     ]
    },
    {
     "name": "stdout",
     "output_type": "stream",
     "text": [
      "token:  rerb \tsuggest:  rer b\n"
     ]
    },
    {
     "name": "stderr",
     "output_type": "stream",
     "text": [
      " 22%|██▏       | 83/377 [00:12<00:43,  6.80it/s]"
     ]
    },
    {
     "name": "stdout",
     "output_type": "stream",
     "text": [
      "token:  #ligne \tsuggest:  ligne j\n"
     ]
    },
    {
     "name": "stderr",
     "output_type": "stream",
     "text": [
      " 24%|██▍       | 90/377 [00:13<00:42,  6.75it/s]"
     ]
    },
    {
     "name": "stdout",
     "output_type": "stream",
     "text": [
      "token:  rerb \tsuggest:  rer b\n"
     ]
    },
    {
     "name": "stderr",
     "output_type": "stream",
     "text": [
      " 25%|██▍       | 93/377 [00:13<00:41,  6.76it/s]"
     ]
    },
    {
     "name": "stdout",
     "output_type": "stream",
     "text": [
      "token:  rerb \tsuggest:  rer b\n"
     ]
    },
    {
     "name": "stderr",
     "output_type": "stream",
     "text": [
      " 26%|██▌       | 97/377 [00:14<00:41,  6.77it/s]"
     ]
    },
    {
     "name": "stdout",
     "output_type": "stream",
     "text": [
      "token:   #re \tsuggest:  rer b\n"
     ]
    },
    {
     "name": "stderr",
     "output_type": "stream",
     "text": [
      " 27%|██▋       | 102/377 [00:15<00:40,  6.78it/s]"
     ]
    },
    {
     "name": "stdout",
     "output_type": "stream",
     "text": [
      "token:  rera \tsuggest:  rer a\n"
     ]
    },
    {
     "name": "stderr",
     "output_type": "stream",
     "text": [
      " 28%|██▊       | 105/377 [00:15<00:40,  6.80it/s]"
     ]
    },
    {
     "name": "stdout",
     "output_type": "stream",
     "text": [
      "token:  rera \tsuggest:  rer a\n"
     ]
    },
    {
     "name": "stderr",
     "output_type": "stream",
     "text": [
      " 30%|██▉       | 113/377 [00:16<00:38,  6.78it/s]"
     ]
    },
    {
     "name": "stdout",
     "output_type": "stream",
     "text": [
      "token:  rerb \tsuggest:  rer b\n",
      "token:  saint-rémy \tsuggest:  saint rémy\n"
     ]
    },
    {
     "name": "stderr",
     "output_type": "stream",
     "text": [
      " 32%|███▏      | 119/377 [00:17<00:38,  6.78it/s]"
     ]
    },
    {
     "name": "stdout",
     "output_type": "stream",
     "text": [
      "token:  rerb \tsuggest:  rer b\n",
      "token:  rerb \tsuggest:  rer b\n"
     ]
    },
    {
     "name": "stderr",
     "output_type": "stream",
     "text": [
      " 32%|███▏      | 122/377 [00:17<00:37,  6.79it/s]"
     ]
    },
    {
     "name": "stdout",
     "output_type": "stream",
     "text": [
      "token:  rerb \tsuggest:  rer b\n"
     ]
    },
    {
     "name": "stderr",
     "output_type": "stream",
     "text": [
      " 33%|███▎      | 123/377 [00:18<00:37,  6.79it/s]"
     ]
    },
    {
     "name": "stdout",
     "output_type": "stream",
     "text": [
      "token:   infotrafi \tsuggest:  info trafic\n"
     ]
    },
    {
     "name": "stderr",
     "output_type": "stream",
     "text": [
      " 33%|███▎      | 125/377 [00:18<00:37,  6.75it/s]"
     ]
    },
    {
     "name": "stdout",
     "output_type": "stream",
     "text": [
      "token:  rerb \tsuggest:  rer b\n",
      "token:  pointgreve \tsuggest:  point greve\n"
     ]
    },
    {
     "name": "stderr",
     "output_type": "stream",
     "text": [
      " 35%|███▍      | 131/377 [00:19<00:36,  6.72it/s]"
     ]
    },
    {
     "name": "stdout",
     "output_type": "stream",
     "text": [
      "token:  rera \tsuggest:  rer a\n"
     ]
    },
    {
     "name": "stderr",
     "output_type": "stream",
     "text": [
      " 35%|███▌      | 133/377 [00:19<00:36,  6.72it/s]"
     ]
    },
    {
     "name": "stdout",
     "output_type": "stream",
     "text": [
      "token:   #re \tsuggest:  rer d\n"
     ]
    },
    {
     "name": "stderr",
     "output_type": "stream",
     "text": [
      " 39%|███▉      | 147/377 [00:21<00:33,  6.78it/s]"
     ]
    },
    {
     "name": "stdout",
     "output_type": "stream",
     "text": [
      "token:  rerb \tsuggest:  rer b\n"
     ]
    },
    {
     "name": "stderr",
     "output_type": "stream",
     "text": [
      " 41%|████      | 155/377 [00:22<00:32,  6.79it/s]"
     ]
    },
    {
     "name": "stdout",
     "output_type": "stream",
     "text": [
      "token:  rerc \tsuggest:  rer c\n"
     ]
    },
    {
     "name": "stderr",
     "output_type": "stream",
     "text": [
      " 46%|████▋     | 175/377 [00:26<00:30,  6.70it/s]"
     ]
    },
    {
     "name": "stdout",
     "output_type": "stream",
     "text": [
      "token:  parismontparnasse \tsuggest:  paris montparnasse\n"
     ]
    },
    {
     "name": "stderr",
     "output_type": "stream",
     "text": [
      " 47%|████▋     | 177/377 [00:26<00:29,  6.70it/s]"
     ]
    },
    {
     "name": "stdout",
     "output_type": "stream",
     "text": [
      "token:  lesgens \tsuggest:  les gens\n"
     ]
    },
    {
     "name": "stderr",
     "output_type": "stream",
     "text": [
      " 48%|████▊     | 180/377 [00:26<00:29,  6.71it/s]"
     ]
    },
    {
     "name": "stdout",
     "output_type": "stream",
     "text": [
      "token:  rerd \tsuggest:  rer d\n"
     ]
    },
    {
     "name": "stderr",
     "output_type": "stream",
     "text": [
      " 49%|████▉     | 185/377 [00:27<00:28,  6.69it/s]"
     ]
    },
    {
     "name": "stdout",
     "output_type": "stream",
     "text": [
      "token:  lignej \tsuggest:  ligne j\n"
     ]
    },
    {
     "name": "stderr",
     "output_type": "stream",
     "text": [
      " 50%|████▉     | 187/377 [00:27<00:28,  6.70it/s]"
     ]
    },
    {
     "name": "stdout",
     "output_type": "stream",
     "text": [
      "token:  rerb \tsuggest:  rer b\n"
     ]
    },
    {
     "name": "stderr",
     "output_type": "stream",
     "text": [
      " 52%|█████▏    | 195/377 [00:29<00:27,  6.69it/s]"
     ]
    },
    {
     "name": "stdout",
     "output_type": "stream",
     "text": [
      "token:  rerb \tsuggest:  rer b\n",
      "token:  rerb \tsuggest:  rer b\n"
     ]
    },
    {
     "name": "stderr",
     "output_type": "stream",
     "text": [
      " 52%|█████▏    | 197/377 [00:29<00:26,  6.69it/s]"
     ]
    },
    {
     "name": "stdout",
     "output_type": "stream",
     "text": [
      "token:  rerb \tsuggest:  rer b\n"
     ]
    },
    {
     "name": "stderr",
     "output_type": "stream",
     "text": [
      " 53%|█████▎    | 199/377 [00:29<00:26,  6.69it/s]"
     ]
    },
    {
     "name": "stdout",
     "output_type": "stream",
     "text": [
      "token:  rerb \tsuggest:  rer b\n"
     ]
    },
    {
     "name": "stderr",
     "output_type": "stream",
     "text": [
      " 54%|█████▍    | 203/377 [00:30<00:26,  6.68it/s]"
     ]
    },
    {
     "name": "stdout",
     "output_type": "stream",
     "text": [
      "token:  rerc \tsuggest:  rer c\n",
      "token:  rerb \tsuggest:  rer b\n"
     ]
    },
    {
     "name": "stderr",
     "output_type": "stream",
     "text": [
      " 54%|█████▍    | 205/377 [00:30<00:25,  6.69it/s]"
     ]
    },
    {
     "name": "stdout",
     "output_type": "stream",
     "text": [
      "token:  rerb \tsuggest:  rer b\n"
     ]
    },
    {
     "name": "stderr",
     "output_type": "stream",
     "text": [
      " 56%|█████▌    | 211/377 [00:31<00:24,  6.71it/s]"
     ]
    },
    {
     "name": "stdout",
     "output_type": "stream",
     "text": [
      "token:  rerb \tsuggest:  rer b\n",
      "token:  stlazare \tsuggest:  st lazare\n",
      "token:  lignel \tsuggest:  ligne l\n",
      "token:  lignej \tsuggest:  ligne j\n"
     ]
    },
    {
     "name": "stderr",
     "output_type": "stream",
     "text": [
      " 57%|█████▋    | 214/377 [00:31<00:24,  6.71it/s]"
     ]
    },
    {
     "name": "stdout",
     "output_type": "stream",
     "text": [
      "token:  rerb \tsuggest:  rer b\n"
     ]
    },
    {
     "name": "stderr",
     "output_type": "stream",
     "text": [
      " 62%|██████▏   | 233/377 [00:34<00:21,  6.70it/s]"
     ]
    },
    {
     "name": "stdout",
     "output_type": "stream",
     "text": [
      "token:  rerb \tsuggest:  rer b\n",
      "token:  d' après \tsuggest:  d'après\n",
      "token:  rerb \tsuggest:  rer b\n"
     ]
    },
    {
     "name": "stderr",
     "output_type": "stream",
     "text": [
      " 62%|██████▏   | 235/377 [00:35<00:21,  6.70it/s]"
     ]
    },
    {
     "name": "stdout",
     "output_type": "stream",
     "text": [
      "token:  rerc \tsuggest:  rer c\n"
     ]
    },
    {
     "name": "stderr",
     "output_type": "stream",
     "text": [
      " 64%|██████▍   | 242/377 [00:36<00:20,  6.71it/s]"
     ]
    },
    {
     "name": "stdout",
     "output_type": "stream",
     "text": [
      "token:  rera \tsuggest:  rer a\n",
      "token:  lignej \tsuggest:  ligne j\n"
     ]
    },
    {
     "name": "stderr",
     "output_type": "stream",
     "text": [
      " 65%|██████▍   | 245/377 [00:36<00:19,  6.72it/s]"
     ]
    },
    {
     "name": "stdout",
     "output_type": "stream",
     "text": [
      "token:  rera \tsuggest:  rer a\n"
     ]
    },
    {
     "name": "stderr",
     "output_type": "stream",
     "text": [
      " 66%|██████▌   | 247/377 [00:36<00:19,  6.72it/s]"
     ]
    },
    {
     "name": "stdout",
     "output_type": "stream",
     "text": [
      "token:  rerc \tsuggest:  rer c\n",
      "token:  rerb \tsuggest:  rer b\n"
     ]
    },
    {
     "name": "stderr",
     "output_type": "stream",
     "text": [
      " 67%|██████▋   | 251/377 [00:37<00:18,  6.71it/s]"
     ]
    },
    {
     "name": "stdout",
     "output_type": "stream",
     "text": [
      "token:  rerb \tsuggest:  rer b\n",
      "token:  stlazard \tsuggest:  st lazare\n"
     ]
    },
    {
     "name": "stderr",
     "output_type": "stream",
     "text": [
      " 67%|██████▋   | 253/377 [00:37<00:18,  6.71it/s]"
     ]
    },
    {
     "name": "stdout",
     "output_type": "stream",
     "text": [
      "token:  rera \tsuggest:  rer a\n"
     ]
    },
    {
     "name": "stderr",
     "output_type": "stream",
     "text": [
      " 68%|██████▊   | 255/377 [00:38<00:18,  6.69it/s]"
     ]
    },
    {
     "name": "stdout",
     "output_type": "stream",
     "text": [
      "token:  rerb \tsuggest:  rer b\n",
      "token:  valdefontenay \tsuggest:  val de fontenay\n"
     ]
    },
    {
     "name": "stderr",
     "output_type": "stream",
     "text": [
      " 68%|██████▊   | 258/377 [00:38<00:17,  6.68it/s]"
     ]
    },
    {
     "name": "stdout",
     "output_type": "stream",
     "text": [
      "token:  rerb \tsuggest:  rer b\n"
     ]
    },
    {
     "name": "stderr",
     "output_type": "stream",
     "text": [
      " 69%|██████▉   | 260/377 [00:38<00:17,  6.68it/s]"
     ]
    },
    {
     "name": "stdout",
     "output_type": "stream",
     "text": [
      "token:  rera \tsuggest:  rer a\n"
     ]
    },
    {
     "name": "stderr",
     "output_type": "stream",
     "text": [
      " 70%|███████   | 264/377 [00:39<00:16,  6.68it/s]"
     ]
    },
    {
     "name": "stdout",
     "output_type": "stream",
     "text": [
      "token:  sudrail \tsuggest:  sud rail\n",
      "token:  saintlazare \tsuggest:  saint lazare\n",
      "token:  timothelefebvre \tsuggest:  timothe lefebvre\n",
      "token:  #tableronderat \tsuggest:  table ronde ratp\n"
     ]
    },
    {
     "name": "stderr",
     "output_type": "stream",
     "text": [
      " 72%|███████▏  | 271/377 [00:40<00:15,  6.69it/s]"
     ]
    },
    {
     "name": "stdout",
     "output_type": "stream",
     "text": [
      "token:  rera \tsuggest:  rer a\n"
     ]
    },
    {
     "name": "stderr",
     "output_type": "stream",
     "text": [
      " 74%|███████▎  | 278/377 [00:41<00:14,  6.70it/s]"
     ]
    },
    {
     "name": "stdout",
     "output_type": "stream",
     "text": [
      "token:  lignel \tsuggest:  ligne l\n",
      "token:  versaillesrd \tsuggest:  versailles rd\n",
      "token:  saintlazare \tsuggest:  saint lazare\n",
      "token:   l' heur \tsuggest:  l'heure\n"
     ]
    },
    {
     "name": "stderr",
     "output_type": "stream",
     "text": [
      " 75%|███████▌  | 283/377 [00:42<00:14,  6.70it/s]"
     ]
    },
    {
     "name": "stdout",
     "output_type": "stream",
     "text": [
      "token:  rerb \tsuggest:  rer b\n"
     ]
    },
    {
     "name": "stderr",
     "output_type": "stream",
     "text": [
      " 76%|███████▌  | 285/377 [00:42<00:13,  6.71it/s]"
     ]
    },
    {
     "name": "stdout",
     "output_type": "stream",
     "text": [
      "token:  rera \tsuggest:  rer a\n"
     ]
    },
    {
     "name": "stderr",
     "output_type": "stream",
     "text": [
      " 77%|███████▋  | 289/377 [00:43<00:13,  6.71it/s]"
     ]
    },
    {
     "name": "stdout",
     "output_type": "stream",
     "text": [
      "token:  rera \tsuggest:  rer a\n"
     ]
    },
    {
     "name": "stderr",
     "output_type": "stream",
     "text": [
      " 79%|███████▊  | 296/377 [00:44<00:12,  6.71it/s]"
     ]
    },
    {
     "name": "stdout",
     "output_type": "stream",
     "text": [
      "token:  rerb \tsuggest:  rer b\n",
      "token:  rerb \tsuggest:  rer b\n"
     ]
    },
    {
     "name": "stderr",
     "output_type": "stream",
     "text": [
      " 81%|████████  | 304/377 [00:48<00:11,  6.24it/s]"
     ]
    },
    {
     "name": "stdout",
     "output_type": "stream",
     "text": [
      "token:  rera \tsuggest:  rer a\n"
     ]
    },
    {
     "name": "stderr",
     "output_type": "stream",
     "text": [
      " 81%|████████▏ | 307/377 [00:49<00:11,  6.25it/s]"
     ]
    },
    {
     "name": "stdout",
     "output_type": "stream",
     "text": [
      "token:  rerb \tsuggest:  rer b\n"
     ]
    },
    {
     "name": "stderr",
     "output_type": "stream",
     "text": [
      " 83%|████████▎ | 314/377 [00:50<00:10,  6.27it/s]"
     ]
    },
    {
     "name": "stdout",
     "output_type": "stream",
     "text": [
      "token:  rera \tsuggest:  rer a\n",
      "token:  rera \tsuggest:  rer a\n"
     ]
    },
    {
     "name": "stderr",
     "output_type": "stream",
     "text": [
      " 84%|████████▍ | 316/377 [00:50<00:09,  6.27it/s]"
     ]
    },
    {
     "name": "stdout",
     "output_type": "stream",
     "text": [
      "token:  rera \tsuggest:  rer a\n"
     ]
    },
    {
     "name": "stderr",
     "output_type": "stream",
     "text": [
      " 84%|████████▍ | 318/377 [00:50<00:09,  6.28it/s]"
     ]
    },
    {
     "name": "stdout",
     "output_type": "stream",
     "text": [
      "token:  @rer \tsuggest:  rer a\n"
     ]
    },
    {
     "name": "stderr",
     "output_type": "stream",
     "text": [
      " 89%|████████▉ | 335/377 [00:53<00:06,  6.28it/s]"
     ]
    },
    {
     "name": "stdout",
     "output_type": "stream",
     "text": [
      "token:  rerb \tsuggest:  rer b\n"
     ]
    },
    {
     "name": "stderr",
     "output_type": "stream",
     "text": [
      " 90%|████████▉ | 338/377 [00:53<00:06,  6.28it/s]"
     ]
    },
    {
     "name": "stdout",
     "output_type": "stream",
     "text": [
      "token:  rera \tsuggest:  rer a\n"
     ]
    },
    {
     "name": "stderr",
     "output_type": "stream",
     "text": [
      " 91%|█████████ | 342/377 [00:54<00:05,  6.29it/s]"
     ]
    },
    {
     "name": "stdout",
     "output_type": "stream",
     "text": [
      "token:  infotrafic \tsuggest:  info trafic\n",
      "token:  infotrafic \tsuggest:  info trafic\n"
     ]
    },
    {
     "name": "stderr",
     "output_type": "stream",
     "text": [
      " 92%|█████████▏| 346/377 [00:54<00:04,  6.30it/s]"
     ]
    },
    {
     "name": "stdout",
     "output_type": "stream",
     "text": [
      "token:  envrac \tsuggest:  en vrac\n"
     ]
    },
    {
     "name": "stderr",
     "output_type": "stream",
     "text": [
      " 93%|█████████▎| 349/377 [00:55<00:04,  6.30it/s]"
     ]
    },
    {
     "name": "stdout",
     "output_type": "stream",
     "text": [
      "token:  rerb \tsuggest:  rer b\n"
     ]
    },
    {
     "name": "stderr",
     "output_type": "stream",
     "text": [
      " 97%|█████████▋| 364/377 [00:57<00:02,  6.31it/s]"
     ]
    },
    {
     "name": "stdout",
     "output_type": "stream",
     "text": [
      "token:  rerb \tsuggest:  rer b\n",
      "token:  lignej \tsuggest:  ligne j\n"
     ]
    },
    {
     "name": "stderr",
     "output_type": "stream",
     "text": [
      " 98%|█████████▊| 371/377 [00:58<00:00,  6.32it/s]"
     ]
    },
    {
     "name": "stdout",
     "output_type": "stream",
     "text": [
      "token:  rerb \tsuggest:  rer b\n",
      "token:  rerd \tsuggest:  rer d\n"
     ]
    },
    {
     "name": "stderr",
     "output_type": "stream",
     "text": [
      "100%|█████████▉| 376/377 [00:59<00:00,  6.34it/s]"
     ]
    },
    {
     "name": "stdout",
     "output_type": "stream",
     "text": [
      "token:  cagade \tsuggest:  cage de\n",
      "token:  lignej \tsuggest:  ligne j\n"
     ]
    },
    {
     "name": "stderr",
     "output_type": "stream",
     "text": [
      "100%|██████████| 377/377 [00:59<00:00,  6.34it/s]\n"
     ]
    }
   ],
   "source": [
    "for tokens, tags in tqdm(all_data):\n",
    "    data = {'text': untokenize(tokens)}\n",
    "    body = urllib.parse.urlencode(data)\n",
    "    conn.request (\"POST\", path + params, body, headers)\n",
    "    response = conn.getresponse()\n",
    "    output = json.loads(response.read())\n",
    "\n",
    "    fixed_text = spellsafe(' '.join(tokens), output)\n",
    "    fixed_tokens = fixed_text.split(' ')\n",
    "    assert len(fixed_tokens) == len(tags), output\n",
    "\n",
    "    fixed.append((fixed_tokens, tags))\n",
    "    sleep(1/100.)"
   ]
  }
 ],
 "metadata": {
  "kernelspec": {
   "display_name": "Python 3",
   "language": "python",
   "name": "python3"
  },
  "language_info": {
   "codemirror_mode": {
    "name": "ipython",
    "version": 3
   },
   "file_extension": ".py",
   "mimetype": "text/x-python",
   "name": "python",
   "nbconvert_exporter": "python",
   "pygments_lexer": "ipython3",
   "version": "3.6.5"
  }
 },
 "nbformat": 4,
 "nbformat_minor": 2
}
