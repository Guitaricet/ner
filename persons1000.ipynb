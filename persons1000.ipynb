{
 "cells": [
  {
   "cell_type": "code",
   "execution_count": 3,
   "metadata": {},
   "outputs": [],
   "source": [
    "import codecs\n",
    "import pandas as pd"
   ]
  },
  {
   "cell_type": "code",
   "execution_count": 8,
   "metadata": {},
   "outputs": [
    {
     "name": "stdout",
     "output_type": "stream",
     "text": [
      "Россия рассчитывает на конструктивное воздействие США на Грузию\n",
      "\n",
      "04/08/2008 12:08\n",
      "\n",
      "МОСКВА, 4 авг - РИА Новости. Россия рассчитывает, что США воздействуют на Тбилиси в связи с обострением ситуации в зоне грузино-осетинского конфликта. Об этом статс-секретарь - заместитель министра иностранных дел России Григорий Карасин заявил в телефонном разговоре с заместителем госсекретаря США Дэниэлом Фридом.\n",
      "\n",
      "\"С российской стороны выражена глубокая озабоченность в связи с новым витком напряженности вокруг Южной Осетии, противозаконными действиями грузинской стороны по наращиванию своих вооруженных сил в регионе, бесконтрольным строительством фортификационных сооружений\", - говорится в сообщении.\n",
      "\n",
      "\"Россия уже призвала Тбилиси к ответственной линии и рассчитывает также на конструктивное воздействие со стороны Вашингтона\", - сообщил МИД России. \n"
     ]
    }
   ],
   "source": [
    "datapath = '/media/data/nlp/ner/Persons-1000/collection/001/text.txt'\n",
    "with codecs.open(datapath, encoding='cp1251') as f:\n",
    "    print(f.read())"
   ]
  },
  {
   "cell_type": "code",
   "execution_count": 10,
   "metadata": {},
   "outputs": [
    {
     "name": "stdout",
     "output_type": "stream",
     "text": [
      "﻿<markup>\n",
      "<entry>\n",
      "<id>1</id>\n",
      "<offset>308</offset>\n",
      "<length>16</length>\n",
      "<class>AAA_Estimate_Person</class>\n",
      "<attribute>\n",
      "<name>Canonical</name>\n",
      "<value>ГРИГОРИЙ КАРАСИН</value>\n",
      "</attribute>\n",
      "</entry>\n",
      "<entry>\n",
      "<id>2</id>\n",
      "<offset>387</offset>\n",
      "<length>15</length>\n",
      "<class>AAA_Estimate_Person</class>\n",
      "<attribute>\n",
      "<name>Canonical</name>\n",
      "<value>ДЭНИЭЛ ФРИД</value>\n",
      "</attribute>\n",
      "</entry>\n",
      "</markup>\n",
      "\n"
     ]
    }
   ],
   "source": [
    "datapath = '/media/data/nlp/ner/Persons-1000/collection/001/anno.markup.xml'\n",
    "with codecs.open(datapath) as f:\n",
    "    print(f.read())"
   ]
  },
  {
   "cell_type": "code",
   "execution_count": null,
   "metadata": {},
   "outputs": [],
   "source": []
  }
 ],
 "metadata": {
  "kernelspec": {
   "display_name": "Python 3",
   "language": "python",
   "name": "python3"
  },
  "language_info": {
   "codemirror_mode": {
    "name": "ipython",
    "version": 3
   },
   "file_extension": ".py",
   "mimetype": "text/x-python",
   "name": "python",
   "nbconvert_exporter": "python",
   "pygments_lexer": "ipython3",
   "version": "3.6.3"
  }
 },
 "nbformat": 4,
 "nbformat_minor": 2
}
